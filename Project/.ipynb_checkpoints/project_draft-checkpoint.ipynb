{
 "cells": [
  {
   "cell_type": "markdown",
   "id": "24b24e0b",
   "metadata": {},
   "source": [
    "<h1 style=\"text-align: center; font-family: 'Lucida Console', 'Courier New', monospace;\">Singapore HDB Flat Resale Prices (2017-2020)</h1>"
   ]
  },
  {
   "cell_type": "markdown",
   "id": "795ddef4",
   "metadata": {},
   "source": [
    "<img src=\"https://i.ibb.co/rw6XmCG/peter-nguyen-singapore.jpg\" alt=\"peter-nguyen-singapore-image\" border=\"0\">"
   ]
  },
  {
   "cell_type": "markdown",
   "id": "113bae49",
   "metadata": {},
   "source": [
    "<h3 style=\"font-family: 'Lucida Console', 'Courier New', monospace;\">Data Preparation</h3>"
   ]
  },
  {
   "cell_type": "code",
   "execution_count": 114,
   "id": "9f0048e4",
   "metadata": {},
   "outputs": [],
   "source": [
    "import pandas as pd\n",
    "import numpy as np\n",
    "import matplotlib\n",
    "import matplotlib.pyplot as plt\n",
    "import seaborn as sns"
   ]
  },
  {
   "cell_type": "code",
   "execution_count": 71,
   "id": "23f568e2",
   "metadata": {},
   "outputs": [
    {
     "name": "stdout",
     "output_type": "stream",
     "text": [
      "<class 'pandas.core.frame.DataFrame'>\n",
      "RangeIndex: 80374 entries, 0 to 80373\n",
      "Data columns (total 11 columns):\n",
      " #   Column               Non-Null Count  Dtype         \n",
      "---  ------               --------------  -----         \n",
      " 0   month                80374 non-null  datetime64[ns]\n",
      " 1   town                 80374 non-null  object        \n",
      " 2   flat_type            80374 non-null  object        \n",
      " 3   block                80374 non-null  object        \n",
      " 4   street_name          80374 non-null  object        \n",
      " 5   storey_range         80374 non-null  object        \n",
      " 6   floor_area_sqm       80374 non-null  float64       \n",
      " 7   flat_model           80374 non-null  object        \n",
      " 8   lease_commence_date  80374 non-null  int64         \n",
      " 9   remaining_lease      80374 non-null  object        \n",
      " 10  resale_price         80374 non-null  float64       \n",
      "dtypes: datetime64[ns](1), float64(2), int64(1), object(7)\n",
      "memory usage: 6.7+ MB\n"
     ]
    }
   ],
   "source": [
    "df = pd.read_csv('resale-flat-prices-based-on-registration-date-from-jan-2017-onwards.csv', \n",
    "                 parse_dates=['month'])\n",
    "df.info()"
   ]
  },
  {
   "cell_type": "code",
   "execution_count": 72,
   "id": "088abdcb",
   "metadata": {},
   "outputs": [
    {
     "data": {
      "text/plain": [
       "(80374, 11)"
      ]
     },
     "execution_count": 72,
     "metadata": {},
     "output_type": "execute_result"
    }
   ],
   "source": [
    "df.shape"
   ]
  },
  {
   "cell_type": "code",
   "execution_count": 73,
   "id": "def4971e",
   "metadata": {},
   "outputs": [
    {
     "data": {
      "text/html": [
       "<div>\n",
       "<style scoped>\n",
       "    .dataframe tbody tr th:only-of-type {\n",
       "        vertical-align: middle;\n",
       "    }\n",
       "\n",
       "    .dataframe tbody tr th {\n",
       "        vertical-align: top;\n",
       "    }\n",
       "\n",
       "    .dataframe thead th {\n",
       "        text-align: right;\n",
       "    }\n",
       "</style>\n",
       "<table border=\"1\" class=\"dataframe\">\n",
       "  <thead>\n",
       "    <tr style=\"text-align: right;\">\n",
       "      <th></th>\n",
       "      <th>floor_area_sqm</th>\n",
       "      <th>lease_commence_date</th>\n",
       "      <th>resale_price</th>\n",
       "    </tr>\n",
       "  </thead>\n",
       "  <tbody>\n",
       "    <tr>\n",
       "      <th>count</th>\n",
       "      <td>80374.000000</td>\n",
       "      <td>80374.000000</td>\n",
       "      <td>8.037400e+04</td>\n",
       "    </tr>\n",
       "    <tr>\n",
       "      <th>mean</th>\n",
       "      <td>97.617804</td>\n",
       "      <td>1994.117501</td>\n",
       "      <td>4.393165e+05</td>\n",
       "    </tr>\n",
       "    <tr>\n",
       "      <th>std</th>\n",
       "      <td>24.285811</td>\n",
       "      <td>12.839267</td>\n",
       "      <td>1.533902e+05</td>\n",
       "    </tr>\n",
       "    <tr>\n",
       "      <th>min</th>\n",
       "      <td>31.000000</td>\n",
       "      <td>1966.000000</td>\n",
       "      <td>1.400000e+05</td>\n",
       "    </tr>\n",
       "    <tr>\n",
       "      <th>25%</th>\n",
       "      <td>82.000000</td>\n",
       "      <td>1984.000000</td>\n",
       "      <td>3.300000e+05</td>\n",
       "    </tr>\n",
       "    <tr>\n",
       "      <th>50%</th>\n",
       "      <td>95.000000</td>\n",
       "      <td>1994.000000</td>\n",
       "      <td>4.100000e+05</td>\n",
       "    </tr>\n",
       "    <tr>\n",
       "      <th>75%</th>\n",
       "      <td>113.000000</td>\n",
       "      <td>2003.000000</td>\n",
       "      <td>5.150000e+05</td>\n",
       "    </tr>\n",
       "    <tr>\n",
       "      <th>max</th>\n",
       "      <td>249.000000</td>\n",
       "      <td>2019.000000</td>\n",
       "      <td>1.258000e+06</td>\n",
       "    </tr>\n",
       "  </tbody>\n",
       "</table>\n",
       "</div>"
      ],
      "text/plain": [
       "       floor_area_sqm  lease_commence_date  resale_price\n",
       "count    80374.000000         80374.000000  8.037400e+04\n",
       "mean        97.617804          1994.117501  4.393165e+05\n",
       "std         24.285811            12.839267  1.533902e+05\n",
       "min         31.000000          1966.000000  1.400000e+05\n",
       "25%         82.000000          1984.000000  3.300000e+05\n",
       "50%         95.000000          1994.000000  4.100000e+05\n",
       "75%        113.000000          2003.000000  5.150000e+05\n",
       "max        249.000000          2019.000000  1.258000e+06"
      ]
     },
     "execution_count": 73,
     "metadata": {},
     "output_type": "execute_result"
    }
   ],
   "source": [
    "df.describe()"
   ]
  },
  {
   "cell_type": "code",
   "execution_count": 74,
   "id": "94ff0c3f",
   "metadata": {},
   "outputs": [
    {
     "data": {
      "text/html": [
       "<div>\n",
       "<style scoped>\n",
       "    .dataframe tbody tr th:only-of-type {\n",
       "        vertical-align: middle;\n",
       "    }\n",
       "\n",
       "    .dataframe tbody tr th {\n",
       "        vertical-align: top;\n",
       "    }\n",
       "\n",
       "    .dataframe thead th {\n",
       "        text-align: right;\n",
       "    }\n",
       "</style>\n",
       "<table border=\"1\" class=\"dataframe\">\n",
       "  <thead>\n",
       "    <tr style=\"text-align: right;\">\n",
       "      <th></th>\n",
       "      <th>month</th>\n",
       "      <th>town</th>\n",
       "      <th>flat_type</th>\n",
       "      <th>block</th>\n",
       "      <th>street_name</th>\n",
       "      <th>storey_range</th>\n",
       "      <th>floor_area_sqm</th>\n",
       "      <th>flat_model</th>\n",
       "      <th>lease_commence_date</th>\n",
       "      <th>remaining_lease</th>\n",
       "      <th>resale_price</th>\n",
       "    </tr>\n",
       "  </thead>\n",
       "  <tbody>\n",
       "    <tr>\n",
       "      <th>0</th>\n",
       "      <td>2017-01-01</td>\n",
       "      <td>ANG MO KIO</td>\n",
       "      <td>2 ROOM</td>\n",
       "      <td>406</td>\n",
       "      <td>ANG MO KIO AVE 10</td>\n",
       "      <td>10 TO 12</td>\n",
       "      <td>44.0</td>\n",
       "      <td>Improved</td>\n",
       "      <td>1979</td>\n",
       "      <td>61 years 04 months</td>\n",
       "      <td>232000.0</td>\n",
       "    </tr>\n",
       "    <tr>\n",
       "      <th>1</th>\n",
       "      <td>2017-01-01</td>\n",
       "      <td>ANG MO KIO</td>\n",
       "      <td>3 ROOM</td>\n",
       "      <td>108</td>\n",
       "      <td>ANG MO KIO AVE 4</td>\n",
       "      <td>01 TO 03</td>\n",
       "      <td>67.0</td>\n",
       "      <td>New Generation</td>\n",
       "      <td>1978</td>\n",
       "      <td>60 years 07 months</td>\n",
       "      <td>250000.0</td>\n",
       "    </tr>\n",
       "    <tr>\n",
       "      <th>2</th>\n",
       "      <td>2017-01-01</td>\n",
       "      <td>ANG MO KIO</td>\n",
       "      <td>3 ROOM</td>\n",
       "      <td>602</td>\n",
       "      <td>ANG MO KIO AVE 5</td>\n",
       "      <td>01 TO 03</td>\n",
       "      <td>67.0</td>\n",
       "      <td>New Generation</td>\n",
       "      <td>1980</td>\n",
       "      <td>62 years 05 months</td>\n",
       "      <td>262000.0</td>\n",
       "    </tr>\n",
       "    <tr>\n",
       "      <th>3</th>\n",
       "      <td>2017-01-01</td>\n",
       "      <td>ANG MO KIO</td>\n",
       "      <td>3 ROOM</td>\n",
       "      <td>465</td>\n",
       "      <td>ANG MO KIO AVE 10</td>\n",
       "      <td>04 TO 06</td>\n",
       "      <td>68.0</td>\n",
       "      <td>New Generation</td>\n",
       "      <td>1980</td>\n",
       "      <td>62 years 01 month</td>\n",
       "      <td>265000.0</td>\n",
       "    </tr>\n",
       "    <tr>\n",
       "      <th>4</th>\n",
       "      <td>2017-01-01</td>\n",
       "      <td>ANG MO KIO</td>\n",
       "      <td>3 ROOM</td>\n",
       "      <td>601</td>\n",
       "      <td>ANG MO KIO AVE 5</td>\n",
       "      <td>01 TO 03</td>\n",
       "      <td>67.0</td>\n",
       "      <td>New Generation</td>\n",
       "      <td>1980</td>\n",
       "      <td>62 years 05 months</td>\n",
       "      <td>265000.0</td>\n",
       "    </tr>\n",
       "  </tbody>\n",
       "</table>\n",
       "</div>"
      ],
      "text/plain": [
       "       month        town flat_type block        street_name storey_range  \\\n",
       "0 2017-01-01  ANG MO KIO    2 ROOM   406  ANG MO KIO AVE 10     10 TO 12   \n",
       "1 2017-01-01  ANG MO KIO    3 ROOM   108   ANG MO KIO AVE 4     01 TO 03   \n",
       "2 2017-01-01  ANG MO KIO    3 ROOM   602   ANG MO KIO AVE 5     01 TO 03   \n",
       "3 2017-01-01  ANG MO KIO    3 ROOM   465  ANG MO KIO AVE 10     04 TO 06   \n",
       "4 2017-01-01  ANG MO KIO    3 ROOM   601   ANG MO KIO AVE 5     01 TO 03   \n",
       "\n",
       "   floor_area_sqm      flat_model  lease_commence_date     remaining_lease  \\\n",
       "0            44.0        Improved                 1979  61 years 04 months   \n",
       "1            67.0  New Generation                 1978  60 years 07 months   \n",
       "2            67.0  New Generation                 1980  62 years 05 months   \n",
       "3            68.0  New Generation                 1980   62 years 01 month   \n",
       "4            67.0  New Generation                 1980  62 years 05 months   \n",
       "\n",
       "   resale_price  \n",
       "0      232000.0  \n",
       "1      250000.0  \n",
       "2      262000.0  \n",
       "3      265000.0  \n",
       "4      265000.0  "
      ]
     },
     "execution_count": 74,
     "metadata": {},
     "output_type": "execute_result"
    }
   ],
   "source": [
    "df.head()"
   ]
  },
  {
   "cell_type": "code",
   "execution_count": 75,
   "id": "7fade896",
   "metadata": {
    "scrolled": true
   },
   "outputs": [
    {
     "data": {
      "text/html": [
       "<div>\n",
       "<style scoped>\n",
       "    .dataframe tbody tr th:only-of-type {\n",
       "        vertical-align: middle;\n",
       "    }\n",
       "\n",
       "    .dataframe tbody tr th {\n",
       "        vertical-align: top;\n",
       "    }\n",
       "\n",
       "    .dataframe thead th {\n",
       "        text-align: right;\n",
       "    }\n",
       "</style>\n",
       "<table border=\"1\" class=\"dataframe\">\n",
       "  <thead>\n",
       "    <tr style=\"text-align: right;\">\n",
       "      <th></th>\n",
       "      <th>month</th>\n",
       "      <th>town</th>\n",
       "      <th>flat_type</th>\n",
       "      <th>block</th>\n",
       "      <th>street_name</th>\n",
       "      <th>storey_range</th>\n",
       "      <th>floor_area_sqm</th>\n",
       "      <th>flat_model</th>\n",
       "      <th>lease_commence_date</th>\n",
       "      <th>remaining_lease</th>\n",
       "      <th>resale_price</th>\n",
       "    </tr>\n",
       "  </thead>\n",
       "  <tbody>\n",
       "    <tr>\n",
       "      <th>10000</th>\n",
       "      <td>2017-07-01</td>\n",
       "      <td>BUKIT BATOK</td>\n",
       "      <td>4 ROOM</td>\n",
       "      <td>289G</td>\n",
       "      <td>BT BATOK ST 25</td>\n",
       "      <td>04 TO 06</td>\n",
       "      <td>102.0</td>\n",
       "      <td>Model A</td>\n",
       "      <td>1998</td>\n",
       "      <td>80 years</td>\n",
       "      <td>450000.0</td>\n",
       "    </tr>\n",
       "    <tr>\n",
       "      <th>10001</th>\n",
       "      <td>2017-07-01</td>\n",
       "      <td>BUKIT BATOK</td>\n",
       "      <td>4 ROOM</td>\n",
       "      <td>395</td>\n",
       "      <td>BT BATOK WEST AVE 5</td>\n",
       "      <td>19 TO 21</td>\n",
       "      <td>92.0</td>\n",
       "      <td>Model A</td>\n",
       "      <td>2004</td>\n",
       "      <td>86 years 02 months</td>\n",
       "      <td>460000.0</td>\n",
       "    </tr>\n",
       "    <tr>\n",
       "      <th>10002</th>\n",
       "      <td>2017-07-01</td>\n",
       "      <td>BUKIT BATOK</td>\n",
       "      <td>4 ROOM</td>\n",
       "      <td>384</td>\n",
       "      <td>BT BATOK WEST AVE 5</td>\n",
       "      <td>10 TO 12</td>\n",
       "      <td>92.0</td>\n",
       "      <td>Model A</td>\n",
       "      <td>2005</td>\n",
       "      <td>86 years 06 months</td>\n",
       "      <td>465000.0</td>\n",
       "    </tr>\n",
       "    <tr>\n",
       "      <th>10003</th>\n",
       "      <td>2017-07-01</td>\n",
       "      <td>BUKIT BATOK</td>\n",
       "      <td>4 ROOM</td>\n",
       "      <td>621</td>\n",
       "      <td>BT BATOK CTRL</td>\n",
       "      <td>25 TO 27</td>\n",
       "      <td>90.0</td>\n",
       "      <td>Model A</td>\n",
       "      <td>2003</td>\n",
       "      <td>85 years 04 months</td>\n",
       "      <td>570000.0</td>\n",
       "    </tr>\n",
       "    <tr>\n",
       "      <th>10004</th>\n",
       "      <td>2017-07-01</td>\n",
       "      <td>BUKIT BATOK</td>\n",
       "      <td>5 ROOM</td>\n",
       "      <td>387</td>\n",
       "      <td>BT BATOK WEST AVE 5</td>\n",
       "      <td>01 TO 03</td>\n",
       "      <td>118.0</td>\n",
       "      <td>Improved</td>\n",
       "      <td>2004</td>\n",
       "      <td>86 years 04 months</td>\n",
       "      <td>479000.0</td>\n",
       "    </tr>\n",
       "    <tr>\n",
       "      <th>10005</th>\n",
       "      <td>2017-07-01</td>\n",
       "      <td>BUKIT BATOK</td>\n",
       "      <td>5 ROOM</td>\n",
       "      <td>392</td>\n",
       "      <td>BT BATOK WEST AVE 5</td>\n",
       "      <td>01 TO 03</td>\n",
       "      <td>118.0</td>\n",
       "      <td>Improved</td>\n",
       "      <td>2004</td>\n",
       "      <td>86 years 03 months</td>\n",
       "      <td>485000.0</td>\n",
       "    </tr>\n",
       "  </tbody>\n",
       "</table>\n",
       "</div>"
      ],
      "text/plain": [
       "           month         town flat_type block          street_name  \\\n",
       "10000 2017-07-01  BUKIT BATOK    4 ROOM  289G       BT BATOK ST 25   \n",
       "10001 2017-07-01  BUKIT BATOK    4 ROOM   395  BT BATOK WEST AVE 5   \n",
       "10002 2017-07-01  BUKIT BATOK    4 ROOM   384  BT BATOK WEST AVE 5   \n",
       "10003 2017-07-01  BUKIT BATOK    4 ROOM   621        BT BATOK CTRL   \n",
       "10004 2017-07-01  BUKIT BATOK    5 ROOM   387  BT BATOK WEST AVE 5   \n",
       "10005 2017-07-01  BUKIT BATOK    5 ROOM   392  BT BATOK WEST AVE 5   \n",
       "\n",
       "      storey_range  floor_area_sqm flat_model  lease_commence_date  \\\n",
       "10000     04 TO 06           102.0    Model A                 1998   \n",
       "10001     19 TO 21            92.0    Model A                 2004   \n",
       "10002     10 TO 12            92.0    Model A                 2005   \n",
       "10003     25 TO 27            90.0    Model A                 2003   \n",
       "10004     01 TO 03           118.0   Improved                 2004   \n",
       "10005     01 TO 03           118.0   Improved                 2004   \n",
       "\n",
       "          remaining_lease  resale_price  \n",
       "10000            80 years      450000.0  \n",
       "10001  86 years 02 months      460000.0  \n",
       "10002  86 years 06 months      465000.0  \n",
       "10003  85 years 04 months      570000.0  \n",
       "10004  86 years 04 months      479000.0  \n",
       "10005  86 years 03 months      485000.0  "
      ]
     },
     "execution_count": 75,
     "metadata": {},
     "output_type": "execute_result"
    }
   ],
   "source": [
    "df.iloc[10000:10006]"
   ]
  },
  {
   "cell_type": "code",
   "execution_count": 104,
   "id": "9b476fff",
   "metadata": {},
   "outputs": [
    {
     "data": {
      "text/html": [
       "<div>\n",
       "<style scoped>\n",
       "    .dataframe tbody tr th:only-of-type {\n",
       "        vertical-align: middle;\n",
       "    }\n",
       "\n",
       "    .dataframe tbody tr th {\n",
       "        vertical-align: top;\n",
       "    }\n",
       "\n",
       "    .dataframe thead th {\n",
       "        text-align: right;\n",
       "    }\n",
       "</style>\n",
       "<table border=\"1\" class=\"dataframe\">\n",
       "  <thead>\n",
       "    <tr style=\"text-align: right;\">\n",
       "      <th></th>\n",
       "      <th>month</th>\n",
       "      <th>town</th>\n",
       "      <th>flat_type</th>\n",
       "      <th>block</th>\n",
       "      <th>street_name</th>\n",
       "      <th>storey_range</th>\n",
       "      <th>floor_area_sqm</th>\n",
       "      <th>flat_model</th>\n",
       "      <th>lease_commence_date</th>\n",
       "      <th>remaining_lease</th>\n",
       "      <th>resale_price</th>\n",
       "    </tr>\n",
       "  </thead>\n",
       "  <tbody>\n",
       "    <tr>\n",
       "      <th>78480</th>\n",
       "      <td>2020-09-01</td>\n",
       "      <td>CENTRAL AREA</td>\n",
       "      <td>5 ROOM</td>\n",
       "      <td>1B</td>\n",
       "      <td>CANTONMENT RD</td>\n",
       "      <td>43 TO 45</td>\n",
       "      <td>107.0</td>\n",
       "      <td>Type S2</td>\n",
       "      <td>2011</td>\n",
       "      <td>89 years 04 months</td>\n",
       "      <td>1258000.0</td>\n",
       "    </tr>\n",
       "  </tbody>\n",
       "</table>\n",
       "</div>"
      ],
      "text/plain": [
       "           month          town flat_type block    street_name storey_range  \\\n",
       "78480 2020-09-01  CENTRAL AREA    5 ROOM    1B  CANTONMENT RD     43 TO 45   \n",
       "\n",
       "       floor_area_sqm flat_model  lease_commence_date     remaining_lease  \\\n",
       "78480           107.0    Type S2                 2011  89 years 04 months   \n",
       "\n",
       "       resale_price  \n",
       "78480     1258000.0  "
      ]
     },
     "execution_count": 104,
     "metadata": {},
     "output_type": "execute_result"
    }
   ],
   "source": [
    "df[df['resale_price'] == df['resale_price'].max()]"
   ]
  },
  {
   "cell_type": "markdown",
   "id": "6135b5ec",
   "metadata": {},
   "source": [
    "<h3 style=\"font-family: 'Lucida Console', 'Courier New', monospace;\">Data Manipulation and Analysis</h3>"
   ]
  },
  {
   "cell_type": "code",
   "execution_count": 76,
   "id": "2303c508",
   "metadata": {},
   "outputs": [
    {
     "name": "stdout",
     "output_type": "stream",
     "text": [
      "['1 ROOM', '2 ROOM', '3 ROOM', '4 ROOM', '5 ROOM', 'EXECUTIVE', 'MULTI-GENERATION']\n"
     ]
    }
   ],
   "source": [
    "all_flat_types = sorted(np.array(df['flat_type'].unique()))\n",
    "print(all_flat_types)"
   ]
  },
  {
   "cell_type": "code",
   "execution_count": 77,
   "id": "3ee8d86d",
   "metadata": {},
   "outputs": [
    {
     "data": {
      "text/plain": [
       "4 ROOM              33282\n",
       "5 ROOM              19947\n",
       "3 ROOM              19420\n",
       "EXECUTIVE            6411\n",
       "2 ROOM               1240\n",
       "1 ROOM                 37\n",
       "MULTI-GENERATION       37\n",
       "Name: flat_type, dtype: int64"
      ]
     },
     "execution_count": 77,
     "metadata": {},
     "output_type": "execute_result"
    }
   ],
   "source": [
    "df['flat_type'].value_counts()"
   ]
  },
  {
   "cell_type": "code",
   "execution_count": 89,
   "id": "cf265195",
   "metadata": {},
   "outputs": [
    {
     "data": {
      "text/plain": [
       "<AxesSubplot:xlabel='flat_type', ylabel='count'>"
      ]
     },
     "execution_count": 89,
     "metadata": {},
     "output_type": "execute_result"
    },
    {
     "data": {
      "image/png": "[encoded data removed]",
      "text/plain": [
       "<Figure size 1080x576 with 1 Axes>"
      ]
     },
     "metadata": {},
     "output_type": "display_data"
    }
   ],
   "source": [
    "sns.set(rc = {'figure.figsize':(15, 8)})\n",
    "sns.countplot(x=\"flat_type\", palette=\"ch:.25\", data=df)"
   ]
  },
  {
   "cell_type": "code",
   "execution_count": 79,
   "id": "1d9977fa",
   "metadata": {},
   "outputs": [
    {
     "name": "stdout",
     "output_type": "stream",
     "text": [
      "['2-room', 'Adjoined flat', 'Apartment', 'DBSS', 'Improved', 'Improved-Maisonette', 'Maisonette', 'Model A', 'Model A-Maisonette', 'Model A2', 'Multi Generation', 'New Generation', 'Premium Apartment', 'Premium Apartment Loft', 'Premium Maisonette', 'Simplified', 'Standard', 'Terrace', 'Type S1', 'Type S2']\n"
     ]
    }
   ],
   "source": [
    "all_flat_models = sorted(np.array(df['flat_model'].unique()))\n",
    "print(all_flat_models)"
   ]
  },
  {
   "cell_type": "code",
   "execution_count": 80,
   "id": "499d0b37",
   "metadata": {},
   "outputs": [
    {
     "data": {
      "text/plain": [
       "Model A                   26288\n",
       "Improved                  20067\n",
       "New Generation            11061\n",
       "Premium Apartment          8689\n",
       "Simplified                 3368\n",
       "Apartment                  3257\n",
       "Maisonette                 2376\n",
       "Standard                   2260\n",
       "DBSS                       1332\n",
       "Model A2                   1045\n",
       "Adjoined flat               152\n",
       "Model A-Maisonette          136\n",
       "Type S1                     134\n",
       "Type S2                      74\n",
       "Terrace                      46\n",
       "Multi Generation             37\n",
       "Premium Apartment Loft       26\n",
       "Improved-Maisonette          14\n",
       "Premium Maisonette           10\n",
       "2-room                        2\n",
       "Name: flat_model, dtype: int64"
      ]
     },
     "execution_count": 80,
     "metadata": {},
     "output_type": "execute_result"
    }
   ],
   "source": [
    "df['flat_model'].value_counts()"
   ]
  },
  {
   "cell_type": "code",
   "execution_count": 149,
   "id": "e9fe3a52",
   "metadata": {
    "scrolled": true
   },
   "outputs": [
    {
     "data": {
      "text/plain": [
       "<AxesSubplot:xlabel='count', ylabel='flat_model'>"
      ]
     },
     "execution_count": 149,
     "metadata": {},
     "output_type": "execute_result"
    },
    {
     "data": {
      "image/png": "[encoded data removed]",
      "text/plain": [
       "<Figure size 720x576 with 1 Axes>"
      ]
     },
     "metadata": {},
     "output_type": "display_data"
    }
   ],
   "source": [
    "sns.set(rc = {'figure.figsize':(15,8)})\n",
    "sns.countplot(y='flat_model', data=df)"
   ]
  },
  {
   "cell_type": "code",
   "execution_count": 82,
   "id": "ab59ee5a",
   "metadata": {},
   "outputs": [
    {
     "data": {
      "text/plain": [
       "['01 TO 03',\n",
       " '04 TO 06',\n",
       " '07 TO 09',\n",
       " '10 TO 12',\n",
       " '13 TO 15',\n",
       " '16 TO 18',\n",
       " '19 TO 21',\n",
       " '22 TO 24',\n",
       " '25 TO 27',\n",
       " '28 TO 30',\n",
       " '31 TO 33',\n",
       " '34 TO 36',\n",
       " '37 TO 39',\n",
       " '40 TO 42',\n",
       " '43 TO 45',\n",
       " '46 TO 48',\n",
       " '49 TO 51']"
      ]
     },
     "execution_count": 82,
     "metadata": {},
     "output_type": "execute_result"
    }
   ],
   "source": [
    "sorted(df['storey_range'].unique())"
   ]
  },
  {
   "cell_type": "code",
   "execution_count": 91,
   "id": "30852c9b",
   "metadata": {},
   "outputs": [
    {
     "data": {
      "text/plain": [
       "<AxesSubplot:xlabel='count', ylabel='storey_range'>"
      ]
     },
     "execution_count": 91,
     "metadata": {},
     "output_type": "execute_result"
    },
    {
     "data": {
      "image/png": "[encoded data removed]",
      "text/plain": [
       "<Figure size 1080x576 with 1 Axes>"
      ]
     },
     "metadata": {},
     "output_type": "display_data"
    }
   ],
   "source": [
    "sns.set(rc = {'figure.figsize':(15,8)})\n",
    "sns.countplot(y='storey_range', data=df)"
   ]
  },
  {
   "cell_type": "code",
   "execution_count": 102,
   "id": "c01ae148",
   "metadata": {},
   "outputs": [
    {
     "data": {
      "text/plain": [
       "count    8.037400e+04\n",
       "mean     4.393165e+05\n",
       "std      1.533902e+05\n",
       "min      1.400000e+05\n",
       "25%      3.300000e+05\n",
       "50%      4.100000e+05\n",
       "75%      5.150000e+05\n",
       "max      1.258000e+06\n",
       "Name: resale_price, dtype: float64"
      ]
     },
     "execution_count": 102,
     "metadata": {},
     "output_type": "execute_result"
    }
   ],
   "source": [
    "df['resale_price'].describe()"
   ]
  },
  {
   "cell_type": "code",
   "execution_count": 133,
   "id": "8e63d9be",
   "metadata": {},
   "outputs": [
    {
     "data": {
      "image/png": "[encoded data removed]",
      "text/plain": [
       "<Figure size 1080x576 with 1 Axes>"
      ]
     },
     "metadata": {},
     "output_type": "display_data"
    }
   ],
   "source": [
    "fig, ax = plt.subplots()\n",
    "ax.scatter(df['storey_range'], df['resale_price'])\n",
    "ax.set_xlabel('Storey Range')\n",
    "ax.set_ylabel('Resale Price (S$)')\n",
    "ax.get_yaxis().set_major_formatter(matplotlib.ticker.FuncFormatter(lambda x, p: format(int(x), ',')))\n",
    "plt.xticks(fontsize=9)\n",
    "plt.show()"
   ]
  },
  {
   "cell_type": "code",
   "execution_count": 134,
   "id": "4b1cc59c",
   "metadata": {},
   "outputs": [
    {
     "data": {
      "text/html": [
       "<div>\n",
       "<style scoped>\n",
       "    .dataframe tbody tr th:only-of-type {\n",
       "        vertical-align: middle;\n",
       "    }\n",
       "\n",
       "    .dataframe tbody tr th {\n",
       "        vertical-align: top;\n",
       "    }\n",
       "\n",
       "    .dataframe thead th {\n",
       "        text-align: right;\n",
       "    }\n",
       "</style>\n",
       "<table border=\"1\" class=\"dataframe\">\n",
       "  <thead>\n",
       "    <tr style=\"text-align: right;\">\n",
       "      <th></th>\n",
       "      <th>month</th>\n",
       "      <th>town</th>\n",
       "      <th>flat_type</th>\n",
       "      <th>block</th>\n",
       "      <th>street_name</th>\n",
       "      <th>storey_range</th>\n",
       "      <th>floor_area_sqm</th>\n",
       "      <th>flat_model</th>\n",
       "      <th>lease_commence_date</th>\n",
       "      <th>remaining_lease</th>\n",
       "      <th>resale_price</th>\n",
       "    </tr>\n",
       "  </thead>\n",
       "  <tbody>\n",
       "    <tr>\n",
       "      <th>6504</th>\n",
       "      <td>2017-05-01</td>\n",
       "      <td>CENTRAL AREA</td>\n",
       "      <td>5 ROOM</td>\n",
       "      <td>1F</td>\n",
       "      <td>CANTONMENT RD</td>\n",
       "      <td>43 TO 45</td>\n",
       "      <td>107.0</td>\n",
       "      <td>Type S2</td>\n",
       "      <td>2011</td>\n",
       "      <td>92 years 08 months</td>\n",
       "      <td>1058000.0</td>\n",
       "    </tr>\n",
       "    <tr>\n",
       "      <th>17418</th>\n",
       "      <td>2017-11-01</td>\n",
       "      <td>CENTRAL AREA</td>\n",
       "      <td>4 ROOM</td>\n",
       "      <td>1D</td>\n",
       "      <td>CANTONMENT RD</td>\n",
       "      <td>43 TO 45</td>\n",
       "      <td>96.0</td>\n",
       "      <td>Type S1</td>\n",
       "      <td>2011</td>\n",
       "      <td>92 years 02 months</td>\n",
       "      <td>948000.0</td>\n",
       "    </tr>\n",
       "    <tr>\n",
       "      <th>17420</th>\n",
       "      <td>2017-11-01</td>\n",
       "      <td>CENTRAL AREA</td>\n",
       "      <td>5 ROOM</td>\n",
       "      <td>1E</td>\n",
       "      <td>CANTONMENT RD</td>\n",
       "      <td>43 TO 45</td>\n",
       "      <td>107.0</td>\n",
       "      <td>Type S2</td>\n",
       "      <td>2011</td>\n",
       "      <td>92 years 02 months</td>\n",
       "      <td>1138000.0</td>\n",
       "    </tr>\n",
       "    <tr>\n",
       "      <th>28714</th>\n",
       "      <td>2018-06-01</td>\n",
       "      <td>CENTRAL AREA</td>\n",
       "      <td>4 ROOM</td>\n",
       "      <td>1F</td>\n",
       "      <td>CANTONMENT RD</td>\n",
       "      <td>43 TO 45</td>\n",
       "      <td>94.0</td>\n",
       "      <td>Type S1</td>\n",
       "      <td>2011</td>\n",
       "      <td>91 years 07 months</td>\n",
       "      <td>985000.0</td>\n",
       "    </tr>\n",
       "    <tr>\n",
       "      <th>48995</th>\n",
       "      <td>2019-05-01</td>\n",
       "      <td>CENTRAL AREA</td>\n",
       "      <td>4 ROOM</td>\n",
       "      <td>1B</td>\n",
       "      <td>CANTONMENT RD</td>\n",
       "      <td>43 TO 45</td>\n",
       "      <td>93.0</td>\n",
       "      <td>Type S1</td>\n",
       "      <td>2011</td>\n",
       "      <td>90 years 09 months</td>\n",
       "      <td>1030000.0</td>\n",
       "    </tr>\n",
       "    <tr>\n",
       "      <th>60922</th>\n",
       "      <td>2019-11-01</td>\n",
       "      <td>CENTRAL AREA</td>\n",
       "      <td>4 ROOM</td>\n",
       "      <td>1F</td>\n",
       "      <td>CANTONMENT RD</td>\n",
       "      <td>43 TO 45</td>\n",
       "      <td>95.0</td>\n",
       "      <td>Type S1</td>\n",
       "      <td>2011</td>\n",
       "      <td>90 years 02 months</td>\n",
       "      <td>1068000.0</td>\n",
       "    </tr>\n",
       "    <tr>\n",
       "      <th>78480</th>\n",
       "      <td>2020-09-01</td>\n",
       "      <td>CENTRAL AREA</td>\n",
       "      <td>5 ROOM</td>\n",
       "      <td>1B</td>\n",
       "      <td>CANTONMENT RD</td>\n",
       "      <td>43 TO 45</td>\n",
       "      <td>107.0</td>\n",
       "      <td>Type S2</td>\n",
       "      <td>2011</td>\n",
       "      <td>89 years 04 months</td>\n",
       "      <td>1258000.0</td>\n",
       "    </tr>\n",
       "    <tr>\n",
       "      <th>79436</th>\n",
       "      <td>2020-09-01</td>\n",
       "      <td>QUEENSTOWN</td>\n",
       "      <td>4 ROOM</td>\n",
       "      <td>86</td>\n",
       "      <td>DAWSON RD</td>\n",
       "      <td>43 TO 45</td>\n",
       "      <td>87.0</td>\n",
       "      <td>Premium Apartment</td>\n",
       "      <td>2016</td>\n",
       "      <td>95 years</td>\n",
       "      <td>890000.0</td>\n",
       "    </tr>\n",
       "  </tbody>\n",
       "</table>\n",
       "</div>"
      ],
      "text/plain": [
       "           month          town flat_type block    street_name storey_range  \\\n",
       "6504  2017-05-01  CENTRAL AREA    5 ROOM    1F  CANTONMENT RD     43 TO 45   \n",
       "17418 2017-11-01  CENTRAL AREA    4 ROOM    1D  CANTONMENT RD     43 TO 45   \n",
       "17420 2017-11-01  CENTRAL AREA    5 ROOM    1E  CANTONMENT RD     43 TO 45   \n",
       "28714 2018-06-01  CENTRAL AREA    4 ROOM    1F  CANTONMENT RD     43 TO 45   \n",
       "48995 2019-05-01  CENTRAL AREA    4 ROOM    1B  CANTONMENT RD     43 TO 45   \n",
       "60922 2019-11-01  CENTRAL AREA    4 ROOM    1F  CANTONMENT RD     43 TO 45   \n",
       "78480 2020-09-01  CENTRAL AREA    5 ROOM    1B  CANTONMENT RD     43 TO 45   \n",
       "79436 2020-09-01    QUEENSTOWN    4 ROOM    86      DAWSON RD     43 TO 45   \n",
       "\n",
       "       floor_area_sqm         flat_model  lease_commence_date  \\\n",
       "6504            107.0            Type S2                 2011   \n",
       "17418            96.0            Type S1                 2011   \n",
       "17420           107.0            Type S2                 2011   \n",
       "28714            94.0            Type S1                 2011   \n",
       "48995            93.0            Type S1                 2011   \n",
       "60922            95.0            Type S1                 2011   \n",
       "78480           107.0            Type S2                 2011   \n",
       "79436            87.0  Premium Apartment                 2016   \n",
       "\n",
       "          remaining_lease  resale_price  \n",
       "6504   92 years 08 months     1058000.0  \n",
       "17418  92 years 02 months      948000.0  \n",
       "17420  92 years 02 months     1138000.0  \n",
       "28714  91 years 07 months      985000.0  \n",
       "48995  90 years 09 months     1030000.0  \n",
       "60922  90 years 02 months     1068000.0  \n",
       "78480  89 years 04 months     1258000.0  \n",
       "79436            95 years      890000.0  "
      ]
     },
     "execution_count": 134,
     "metadata": {},
     "output_type": "execute_result"
    }
   ],
   "source": [
    "df[df['storey_range'] == '43 TO 45']"
   ]
  },
  {
   "cell_type": "code",
   "execution_count": 137,
   "id": "1c13a8a1",
   "metadata": {},
   "outputs": [
    {
     "data": {
      "text/plain": [
       "town        flat_model       \n",
       "ANG MO KIO  Adjoined flat          34\n",
       "            Apartment              21\n",
       "            DBSS                  181\n",
       "            Improved              463\n",
       "            Maisonette              4\n",
       "                                 ... \n",
       "YISHUN      Model A              2254\n",
       "            Multi Generation       21\n",
       "            New Generation       1056\n",
       "            Premium Apartment      61\n",
       "            Simplified           1006\n",
       "Name: flat_model, Length: 224, dtype: int64"
      ]
     },
     "execution_count": 137,
     "metadata": {},
     "output_type": "execute_result"
    }
   ],
   "source": [
    "df.groupby(['town', 'flat_model'])['flat_model'].count()"
   ]
  },
  {
   "cell_type": "code",
   "execution_count": 147,
   "id": "3ef7baef",
   "metadata": {},
   "outputs": [
    {
     "data": {
      "text/html": [
       "<div>\n",
       "<style scoped>\n",
       "    .dataframe tbody tr th:only-of-type {\n",
       "        vertical-align: middle;\n",
       "    }\n",
       "\n",
       "    .dataframe tbody tr th {\n",
       "        vertical-align: top;\n",
       "    }\n",
       "\n",
       "    .dataframe thead th {\n",
       "        text-align: right;\n",
       "    }\n",
       "</style>\n",
       "<table border=\"1\" class=\"dataframe\">\n",
       "  <thead>\n",
       "    <tr style=\"text-align: right;\">\n",
       "      <th></th>\n",
       "      <th>month</th>\n",
       "      <th>town</th>\n",
       "      <th>flat_type</th>\n",
       "      <th>block</th>\n",
       "      <th>street_name</th>\n",
       "      <th>storey_range</th>\n",
       "      <th>floor_area_sqm</th>\n",
       "      <th>flat_model</th>\n",
       "      <th>lease_commence_date</th>\n",
       "      <th>remaining_lease</th>\n",
       "      <th>resale_price</th>\n",
       "    </tr>\n",
       "  </thead>\n",
       "  <tbody>\n",
       "    <tr>\n",
       "      <th>296</th>\n",
       "      <td>2017-01-01</td>\n",
       "      <td>BUKIT TIMAH</td>\n",
       "      <td>4 ROOM</td>\n",
       "      <td>4</td>\n",
       "      <td>TOH YI DR</td>\n",
       "      <td>07 TO 09</td>\n",
       "      <td>104.0</td>\n",
       "      <td>Model A</td>\n",
       "      <td>1988</td>\n",
       "      <td>70 years 07 months</td>\n",
       "      <td>670000.0</td>\n",
       "    </tr>\n",
       "    <tr>\n",
       "      <th>297</th>\n",
       "      <td>2017-01-01</td>\n",
       "      <td>BUKIT TIMAH</td>\n",
       "      <td>5 ROOM</td>\n",
       "      <td>5</td>\n",
       "      <td>FARRER RD</td>\n",
       "      <td>10 TO 12</td>\n",
       "      <td>120.0</td>\n",
       "      <td>Standard</td>\n",
       "      <td>1974</td>\n",
       "      <td>56 years 03 months</td>\n",
       "      <td>890000.0</td>\n",
       "    </tr>\n",
       "    <tr>\n",
       "      <th>298</th>\n",
       "      <td>2017-01-01</td>\n",
       "      <td>BUKIT TIMAH</td>\n",
       "      <td>EXECUTIVE</td>\n",
       "      <td>15</td>\n",
       "      <td>TOH YI DR</td>\n",
       "      <td>01 TO 03</td>\n",
       "      <td>146.0</td>\n",
       "      <td>Maisonette</td>\n",
       "      <td>1988</td>\n",
       "      <td>70 years 06 months</td>\n",
       "      <td>876888.0</td>\n",
       "    </tr>\n",
       "    <tr>\n",
       "      <th>1427</th>\n",
       "      <td>2017-02-01</td>\n",
       "      <td>BUKIT TIMAH</td>\n",
       "      <td>3 ROOM</td>\n",
       "      <td>4</td>\n",
       "      <td>QUEEN'S RD</td>\n",
       "      <td>07 TO 09</td>\n",
       "      <td>74.0</td>\n",
       "      <td>Improved</td>\n",
       "      <td>1974</td>\n",
       "      <td>56 years 02 months</td>\n",
       "      <td>425000.0</td>\n",
       "    </tr>\n",
       "    <tr>\n",
       "      <th>1428</th>\n",
       "      <td>2017-02-01</td>\n",
       "      <td>BUKIT TIMAH</td>\n",
       "      <td>5 ROOM</td>\n",
       "      <td>17</td>\n",
       "      <td>TOH YI DR</td>\n",
       "      <td>01 TO 03</td>\n",
       "      <td>122.0</td>\n",
       "      <td>Improved</td>\n",
       "      <td>1988</td>\n",
       "      <td>70 years 05 months</td>\n",
       "      <td>710000.0</td>\n",
       "    </tr>\n",
       "    <tr>\n",
       "      <th>...</th>\n",
       "      <td>...</td>\n",
       "      <td>...</td>\n",
       "      <td>...</td>\n",
       "      <td>...</td>\n",
       "      <td>...</td>\n",
       "      <td>...</td>\n",
       "      <td>...</td>\n",
       "      <td>...</td>\n",
       "      <td>...</td>\n",
       "      <td>...</td>\n",
       "      <td>...</td>\n",
       "    </tr>\n",
       "    <tr>\n",
       "      <th>78455</th>\n",
       "      <td>2020-09-01</td>\n",
       "      <td>BUKIT TIMAH</td>\n",
       "      <td>4 ROOM</td>\n",
       "      <td>2</td>\n",
       "      <td>QUEEN'S RD</td>\n",
       "      <td>04 TO 06</td>\n",
       "      <td>89.0</td>\n",
       "      <td>Improved</td>\n",
       "      <td>1974</td>\n",
       "      <td>52 years 07 months</td>\n",
       "      <td>575000.0</td>\n",
       "    </tr>\n",
       "    <tr>\n",
       "      <th>78456</th>\n",
       "      <td>2020-09-01</td>\n",
       "      <td>BUKIT TIMAH</td>\n",
       "      <td>4 ROOM</td>\n",
       "      <td>16</td>\n",
       "      <td>TOH YI DR</td>\n",
       "      <td>04 TO 06</td>\n",
       "      <td>104.0</td>\n",
       "      <td>Model A</td>\n",
       "      <td>1988</td>\n",
       "      <td>67 years 03 months</td>\n",
       "      <td>620000.0</td>\n",
       "    </tr>\n",
       "    <tr>\n",
       "      <th>78457</th>\n",
       "      <td>2020-09-01</td>\n",
       "      <td>BUKIT TIMAH</td>\n",
       "      <td>4 ROOM</td>\n",
       "      <td>1</td>\n",
       "      <td>TOH YI DR</td>\n",
       "      <td>01 TO 03</td>\n",
       "      <td>104.0</td>\n",
       "      <td>Model A</td>\n",
       "      <td>1988</td>\n",
       "      <td>66 years 10 months</td>\n",
       "      <td>620000.0</td>\n",
       "    </tr>\n",
       "    <tr>\n",
       "      <th>78458</th>\n",
       "      <td>2020-09-01</td>\n",
       "      <td>BUKIT TIMAH</td>\n",
       "      <td>4 ROOM</td>\n",
       "      <td>14</td>\n",
       "      <td>TOH YI DR</td>\n",
       "      <td>04 TO 06</td>\n",
       "      <td>104.0</td>\n",
       "      <td>Model A</td>\n",
       "      <td>1988</td>\n",
       "      <td>67 years 01 month</td>\n",
       "      <td>625000.0</td>\n",
       "    </tr>\n",
       "    <tr>\n",
       "      <th>78459</th>\n",
       "      <td>2020-09-01</td>\n",
       "      <td>BUKIT TIMAH</td>\n",
       "      <td>5 ROOM</td>\n",
       "      <td>16</td>\n",
       "      <td>TOH YI DR</td>\n",
       "      <td>07 TO 09</td>\n",
       "      <td>122.0</td>\n",
       "      <td>Improved</td>\n",
       "      <td>1988</td>\n",
       "      <td>67 years 02 months</td>\n",
       "      <td>828000.0</td>\n",
       "    </tr>\n",
       "  </tbody>\n",
       "</table>\n",
       "<p>220 rows × 11 columns</p>\n",
       "</div>"
      ],
      "text/plain": [
       "           month         town  flat_type block street_name storey_range  \\\n",
       "296   2017-01-01  BUKIT TIMAH     4 ROOM     4   TOH YI DR     07 TO 09   \n",
       "297   2017-01-01  BUKIT TIMAH     5 ROOM     5   FARRER RD     10 TO 12   \n",
       "298   2017-01-01  BUKIT TIMAH  EXECUTIVE    15   TOH YI DR     01 TO 03   \n",
       "1427  2017-02-01  BUKIT TIMAH     3 ROOM     4  QUEEN'S RD     07 TO 09   \n",
       "1428  2017-02-01  BUKIT TIMAH     5 ROOM    17   TOH YI DR     01 TO 03   \n",
       "...          ...          ...        ...   ...         ...          ...   \n",
       "78455 2020-09-01  BUKIT TIMAH     4 ROOM     2  QUEEN'S RD     04 TO 06   \n",
       "78456 2020-09-01  BUKIT TIMAH     4 ROOM    16   TOH YI DR     04 TO 06   \n",
       "78457 2020-09-01  BUKIT TIMAH     4 ROOM     1   TOH YI DR     01 TO 03   \n",
       "78458 2020-09-01  BUKIT TIMAH     4 ROOM    14   TOH YI DR     04 TO 06   \n",
       "78459 2020-09-01  BUKIT TIMAH     5 ROOM    16   TOH YI DR     07 TO 09   \n",
       "\n",
       "       floor_area_sqm  flat_model  lease_commence_date     remaining_lease  \\\n",
       "296             104.0     Model A                 1988  70 years 07 months   \n",
       "297             120.0    Standard                 1974  56 years 03 months   \n",
       "298             146.0  Maisonette                 1988  70 years 06 months   \n",
       "1427             74.0    Improved                 1974  56 years 02 months   \n",
       "1428            122.0    Improved                 1988  70 years 05 months   \n",
       "...               ...         ...                  ...                 ...   \n",
       "78455            89.0    Improved                 1974  52 years 07 months   \n",
       "78456           104.0     Model A                 1988  67 years 03 months   \n",
       "78457           104.0     Model A                 1988  66 years 10 months   \n",
       "78458           104.0     Model A                 1988   67 years 01 month   \n",
       "78459           122.0    Improved                 1988  67 years 02 months   \n",
       "\n",
       "       resale_price  \n",
       "296        670000.0  \n",
       "297        890000.0  \n",
       "298        876888.0  \n",
       "1427       425000.0  \n",
       "1428       710000.0  \n",
       "...             ...  \n",
       "78455      575000.0  \n",
       "78456      620000.0  \n",
       "78457      620000.0  \n",
       "78458      625000.0  \n",
       "78459      828000.0  \n",
       "\n",
       "[220 rows x 11 columns]"
      ]
     },
     "execution_count": 147,
     "metadata": {},
     "output_type": "execute_result"
    }
   ],
   "source": [
    "grouped = df.groupby('town')\n",
    "grouped.filter(lambda x: x['resale_price'].mean() > 710000.0)"
   ]
  },
  {
   "cell_type": "code",
   "execution_count": 163,
   "id": "4bd173df",
   "metadata": {},
   "outputs": [
    {
     "data": {
      "text/html": [
       "<div>\n",
       "<style scoped>\n",
       "    .dataframe tbody tr th:only-of-type {\n",
       "        vertical-align: middle;\n",
       "    }\n",
       "\n",
       "    .dataframe tbody tr th {\n",
       "        vertical-align: top;\n",
       "    }\n",
       "\n",
       "    .dataframe thead th {\n",
       "        text-align: right;\n",
       "    }\n",
       "</style>\n",
       "<table border=\"1\" class=\"dataframe\">\n",
       "  <thead>\n",
       "    <tr style=\"text-align: right;\">\n",
       "      <th></th>\n",
       "      <th>mean</th>\n",
       "    </tr>\n",
       "    <tr>\n",
       "      <th>town</th>\n",
       "      <th></th>\n",
       "    </tr>\n",
       "  </thead>\n",
       "  <tbody>\n",
       "    <tr>\n",
       "      <th>BUKIT TIMAH</th>\n",
       "      <td>711565.245455</td>\n",
       "    </tr>\n",
       "    <tr>\n",
       "      <th>BISHAN</th>\n",
       "      <td>641257.113355</td>\n",
       "    </tr>\n",
       "    <tr>\n",
       "      <th>CENTRAL AREA</th>\n",
       "      <td>617038.942249</td>\n",
       "    </tr>\n",
       "    <tr>\n",
       "      <th>BUKIT MERAH</th>\n",
       "      <td>562568.517882</td>\n",
       "    </tr>\n",
       "    <tr>\n",
       "      <th>QUEENSTOWN</th>\n",
       "      <td>558724.515308</td>\n",
       "    </tr>\n",
       "    <tr>\n",
       "      <th>MARINE PARADE</th>\n",
       "      <td>508642.227957</td>\n",
       "    </tr>\n",
       "    <tr>\n",
       "      <th>PASIR RIS</th>\n",
       "      <td>492510.592317</td>\n",
       "    </tr>\n",
       "    <tr>\n",
       "      <th>KALLANG/WHAMPOA</th>\n",
       "      <td>492476.357310</td>\n",
       "    </tr>\n",
       "    <tr>\n",
       "      <th>SERANGOON</th>\n",
       "      <td>489768.104310</td>\n",
       "    </tr>\n",
       "    <tr>\n",
       "      <th>TOA PAYOH</th>\n",
       "      <td>484577.511716</td>\n",
       "    </tr>\n",
       "    <tr>\n",
       "      <th>TAMPINES</th>\n",
       "      <td>474782.804011</td>\n",
       "    </tr>\n",
       "    <tr>\n",
       "      <th>CLEMENTI</th>\n",
       "      <td>472583.695238</td>\n",
       "    </tr>\n",
       "    <tr>\n",
       "      <th>PUNGGOL</th>\n",
       "      <td>454632.745239</td>\n",
       "    </tr>\n",
       "    <tr>\n",
       "      <th>SENGKANG</th>\n",
       "      <td>437493.724195</td>\n",
       "    </tr>\n",
       "    <tr>\n",
       "      <th>HOUGANG</th>\n",
       "      <td>433257.014522</td>\n",
       "    </tr>\n",
       "    <tr>\n",
       "      <th>GEYLANG</th>\n",
       "      <td>428054.042531</td>\n",
       "    </tr>\n",
       "    <tr>\n",
       "      <th>BUKIT PANJANG</th>\n",
       "      <td>427985.359399</td>\n",
       "    </tr>\n",
       "    <tr>\n",
       "      <th>JURONG EAST</th>\n",
       "      <td>412863.142220</td>\n",
       "    </tr>\n",
       "    <tr>\n",
       "      <th>BEDOK</th>\n",
       "      <td>409326.421717</td>\n",
       "    </tr>\n",
       "    <tr>\n",
       "      <th>ANG MO KIO</th>\n",
       "      <td>408721.693330</td>\n",
       "    </tr>\n",
       "    <tr>\n",
       "      <th>JURONG WEST</th>\n",
       "      <td>390695.527346</td>\n",
       "    </tr>\n",
       "    <tr>\n",
       "      <th>CHOA CHU KANG</th>\n",
       "      <td>388410.044704</td>\n",
       "    </tr>\n",
       "    <tr>\n",
       "      <th>SEMBAWANG</th>\n",
       "      <td>380898.284163</td>\n",
       "    </tr>\n",
       "    <tr>\n",
       "      <th>BUKIT BATOK</th>\n",
       "      <td>380315.709702</td>\n",
       "    </tr>\n",
       "    <tr>\n",
       "      <th>WOODLANDS</th>\n",
       "      <td>378922.761402</td>\n",
       "    </tr>\n",
       "    <tr>\n",
       "      <th>YISHUN</th>\n",
       "      <td>363587.063641</td>\n",
       "    </tr>\n",
       "  </tbody>\n",
       "</table>\n",
       "</div>"
      ],
      "text/plain": [
       "                          mean\n",
       "town                          \n",
       "BUKIT TIMAH      711565.245455\n",
       "BISHAN           641257.113355\n",
       "CENTRAL AREA     617038.942249\n",
       "BUKIT MERAH      562568.517882\n",
       "QUEENSTOWN       558724.515308\n",
       "MARINE PARADE    508642.227957\n",
       "PASIR RIS        492510.592317\n",
       "KALLANG/WHAMPOA  492476.357310\n",
       "SERANGOON        489768.104310\n",
       "TOA PAYOH        484577.511716\n",
       "TAMPINES         474782.804011\n",
       "CLEMENTI         472583.695238\n",
       "PUNGGOL          454632.745239\n",
       "SENGKANG         437493.724195\n",
       "HOUGANG          433257.014522\n",
       "GEYLANG          428054.042531\n",
       "BUKIT PANJANG    427985.359399\n",
       "JURONG EAST      412863.142220\n",
       "BEDOK            409326.421717\n",
       "ANG MO KIO       408721.693330\n",
       "JURONG WEST      390695.527346\n",
       "CHOA CHU KANG    388410.044704\n",
       "SEMBAWANG        380898.284163\n",
       "BUKIT BATOK      380315.709702\n",
       "WOODLANDS        378922.761402\n",
       "YISHUN           363587.063641"
      ]
     },
     "execution_count": 163,
     "metadata": {},
     "output_type": "execute_result"
    }
   ],
   "source": [
    "high_avg_resale = df.groupby('town')['resale_price'].agg(['mean'])\n",
    "high_avg_resale.sort_values(by='mean', ascending=False)"
   ]
  },
  {
   "cell_type": "code",
   "execution_count": 164,
   "id": "a68c092d",
   "metadata": {},
   "outputs": [
    {
     "data": {
      "image/png": "[encoded data removed]",
      "text/plain": [
       "<Figure size 720x576 with 1 Axes>"
      ]
     },
     "metadata": {},
     "output_type": "display_data"
    }
   ],
   "source": [
    "fig, ax = plt.subplots()\n",
    "ax.plot(high_avg_resale.index, high_avg_resale['mean'])\n",
    "plt.xticks(rotation=90)\n",
    "plt.show()"
   ]
  },
  {
   "cell_type": "code",
   "execution_count": 94,
   "id": "d40f1143",
   "metadata": {},
   "outputs": [
    {
     "data": {
      "image/png": "[encoded data removed]",
      "text/plain": [
       "<Figure size 1080x576 with 1 Axes>"
      ]
     },
     "metadata": {},
     "output_type": "display_data"
    },
    {
     "data": {
      "text/plain": [
       "Apartment             423\n",
       "Maisonette            399\n",
       "Adjoined flat          46\n",
       "Multi Generation       32\n",
       "Model A-Maisonette      9\n",
       "Terrace                 8\n",
       "Model A                 3\n",
       "Premium Maisonette      3\n",
       "Name: flat_model, dtype: int64"
      ]
     },
     "metadata": {},
     "output_type": "display_data"
    }
   ],
   "source": [
    "plt.hist(df['floor_area_sqm'], bins=50)\n",
    "plt.title('Distribution of HDB Floor Area')\n",
    "plt.show()\n",
    "display(df[df['floor_area_sqm'] > 150]['flat_model'].value_counts())"
   ]
  },
  {
   "cell_type": "code",
   "execution_count": 113,
   "id": "87e25799",
   "metadata": {},
   "outputs": [
    {
     "data": {
      "image/png": "[encoded data removed]",
      "text/plain": [
       "<Figure size 432x288 with 1 Axes>"
      ]
     },
     "metadata": {
      "needs_background": "light"
     },
     "output_type": "display_data"
    }
   ],
   "source": [
    "df2 = df.head(50)\n",
    "fig, ax = plt.subplots()\n",
    "ax.plot(df2['resale_price'], df2['month'])\n",
    "plt.show()"
   ]
  },
  {
   "cell_type": "code",
   "execution_count": 100,
   "id": "f1ee6377",
   "metadata": {},
   "outputs": [
    {
     "data": {
      "text/html": [
       "<div>\n",
       "<style scoped>\n",
       "    .dataframe tbody tr th:only-of-type {\n",
       "        vertical-align: middle;\n",
       "    }\n",
       "\n",
       "    .dataframe tbody tr th {\n",
       "        vertical-align: top;\n",
       "    }\n",
       "\n",
       "    .dataframe thead th {\n",
       "        text-align: right;\n",
       "    }\n",
       "</style>\n",
       "<table border=\"1\" class=\"dataframe\">\n",
       "  <thead>\n",
       "    <tr style=\"text-align: right;\">\n",
       "      <th></th>\n",
       "      <th>count</th>\n",
       "    </tr>\n",
       "    <tr>\n",
       "      <th>town</th>\n",
       "      <th></th>\n",
       "    </tr>\n",
       "  </thead>\n",
       "  <tbody>\n",
       "    <tr>\n",
       "      <th>ANG MO KIO</th>\n",
       "      <td>3613</td>\n",
       "    </tr>\n",
       "    <tr>\n",
       "      <th>BEDOK</th>\n",
       "      <td>4356</td>\n",
       "    </tr>\n",
       "    <tr>\n",
       "      <th>BISHAN</th>\n",
       "      <td>1535</td>\n",
       "    </tr>\n",
       "    <tr>\n",
       "      <th>BUKIT BATOK</th>\n",
       "      <td>2953</td>\n",
       "    </tr>\n",
       "    <tr>\n",
       "      <th>BUKIT MERAH</th>\n",
       "      <td>3097</td>\n",
       "    </tr>\n",
       "    <tr>\n",
       "      <th>BUKIT PANJANG</th>\n",
       "      <td>3197</td>\n",
       "    </tr>\n",
       "    <tr>\n",
       "      <th>BUKIT TIMAH</th>\n",
       "      <td>220</td>\n",
       "    </tr>\n",
       "    <tr>\n",
       "      <th>CENTRAL AREA</th>\n",
       "      <td>658</td>\n",
       "    </tr>\n",
       "    <tr>\n",
       "      <th>CHOA CHU KANG</th>\n",
       "      <td>3333</td>\n",
       "    </tr>\n",
       "    <tr>\n",
       "      <th>CLEMENTI</th>\n",
       "      <td>1785</td>\n",
       "    </tr>\n",
       "    <tr>\n",
       "      <th>GEYLANG</th>\n",
       "      <td>1928</td>\n",
       "    </tr>\n",
       "    <tr>\n",
       "      <th>HOUGANG</th>\n",
       "      <td>3848</td>\n",
       "    </tr>\n",
       "    <tr>\n",
       "      <th>JURONG EAST</th>\n",
       "      <td>1793</td>\n",
       "    </tr>\n",
       "    <tr>\n",
       "      <th>JURONG WEST</th>\n",
       "      <td>5984</td>\n",
       "    </tr>\n",
       "    <tr>\n",
       "      <th>KALLANG/WHAMPOA</th>\n",
       "      <td>2275</td>\n",
       "    </tr>\n",
       "    <tr>\n",
       "      <th>MARINE PARADE</th>\n",
       "      <td>465</td>\n",
       "    </tr>\n",
       "    <tr>\n",
       "      <th>PASIR RIS</th>\n",
       "      <td>2421</td>\n",
       "    </tr>\n",
       "    <tr>\n",
       "      <th>PUNGGOL</th>\n",
       "      <td>5119</td>\n",
       "    </tr>\n",
       "    <tr>\n",
       "      <th>QUEENSTOWN</th>\n",
       "      <td>2140</td>\n",
       "    </tr>\n",
       "    <tr>\n",
       "      <th>SEMBAWANG</th>\n",
       "      <td>2104</td>\n",
       "    </tr>\n",
       "    <tr>\n",
       "      <th>SENGKANG</th>\n",
       "      <td>6408</td>\n",
       "    </tr>\n",
       "    <tr>\n",
       "      <th>SERANGOON</th>\n",
       "      <td>1601</td>\n",
       "    </tr>\n",
       "    <tr>\n",
       "      <th>TAMPINES</th>\n",
       "      <td>5235</td>\n",
       "    </tr>\n",
       "    <tr>\n",
       "      <th>TOA PAYOH</th>\n",
       "      <td>2646</td>\n",
       "    </tr>\n",
       "    <tr>\n",
       "      <th>WOODLANDS</th>\n",
       "      <td>6019</td>\n",
       "    </tr>\n",
       "    <tr>\n",
       "      <th>YISHUN</th>\n",
       "      <td>5641</td>\n",
       "    </tr>\n",
       "  </tbody>\n",
       "</table>\n",
       "</div>"
      ],
      "text/plain": [
       "                 count\n",
       "town                  \n",
       "ANG MO KIO        3613\n",
       "BEDOK             4356\n",
       "BISHAN            1535\n",
       "BUKIT BATOK       2953\n",
       "BUKIT MERAH       3097\n",
       "BUKIT PANJANG     3197\n",
       "BUKIT TIMAH        220\n",
       "CENTRAL AREA       658\n",
       "CHOA CHU KANG     3333\n",
       "CLEMENTI          1785\n",
       "GEYLANG           1928\n",
       "HOUGANG           3848\n",
       "JURONG EAST       1793\n",
       "JURONG WEST       5984\n",
       "KALLANG/WHAMPOA   2275\n",
       "MARINE PARADE      465\n",
       "PASIR RIS         2421\n",
       "PUNGGOL           5119\n",
       "QUEENSTOWN        2140\n",
       "SEMBAWANG         2104\n",
       "SENGKANG          6408\n",
       "SERANGOON         1601\n",
       "TAMPINES          5235\n",
       "TOA PAYOH         2646\n",
       "WOODLANDS         6019\n",
       "YISHUN            5641"
      ]
     },
     "execution_count": 100,
     "metadata": {},
     "output_type": "execute_result"
    }
   ],
   "source": [
    "df_flats = df.groupby(['town'])['flat_type'].agg(['count'])\n",
    "df_flats"
   ]
  },
  {
   "cell_type": "code",
   "execution_count": 115,
   "id": "64aff4e5",
   "metadata": {},
   "outputs": [
    {
     "data": {
      "image/png": "[encoded data removed]",
      "text/plain": [
       "<Figure size 1080x720 with 1 Axes>"
      ]
     },
     "metadata": {
      "needs_background": "light"
     },
     "output_type": "display_data"
    }
   ],
   "source": [
    "fig, ax = plt.subplots()\n",
    "fig.set_size_inches(15, 10)\n",
    "ax.bar(df_flats.index, df_flats['count'], color='#5cd65c')\n",
    "plt.xticks(rotation=90)\n",
    "plt.show()"
   ]
  },
  {
   "cell_type": "code",
   "execution_count": 102,
   "id": "08bcf96b",
   "metadata": {},
   "outputs": [
    {
     "data": {
      "text/html": [
       "<div>\n",
       "<style scoped>\n",
       "    .dataframe tbody tr th:only-of-type {\n",
       "        vertical-align: middle;\n",
       "    }\n",
       "\n",
       "    .dataframe tbody tr th {\n",
       "        vertical-align: top;\n",
       "    }\n",
       "\n",
       "    .dataframe thead th {\n",
       "        text-align: right;\n",
       "    }\n",
       "</style>\n",
       "<table border=\"1\" class=\"dataframe\">\n",
       "  <thead>\n",
       "    <tr style=\"text-align: right;\">\n",
       "      <th></th>\n",
       "      <th>floor_area_sqm</th>\n",
       "      <th>lease_commence_date</th>\n",
       "      <th>resale_price</th>\n",
       "    </tr>\n",
       "  </thead>\n",
       "  <tbody>\n",
       "    <tr>\n",
       "      <th>count</th>\n",
       "      <td>80374.000000</td>\n",
       "      <td>80374.000000</td>\n",
       "      <td>8.037400e+04</td>\n",
       "    </tr>\n",
       "    <tr>\n",
       "      <th>mean</th>\n",
       "      <td>97.617804</td>\n",
       "      <td>1994.117501</td>\n",
       "      <td>4.393165e+05</td>\n",
       "    </tr>\n",
       "    <tr>\n",
       "      <th>std</th>\n",
       "      <td>24.285811</td>\n",
       "      <td>12.839267</td>\n",
       "      <td>1.533902e+05</td>\n",
       "    </tr>\n",
       "    <tr>\n",
       "      <th>min</th>\n",
       "      <td>31.000000</td>\n",
       "      <td>1966.000000</td>\n",
       "      <td>1.400000e+05</td>\n",
       "    </tr>\n",
       "    <tr>\n",
       "      <th>25%</th>\n",
       "      <td>82.000000</td>\n",
       "      <td>1984.000000</td>\n",
       "      <td>3.300000e+05</td>\n",
       "    </tr>\n",
       "    <tr>\n",
       "      <th>50%</th>\n",
       "      <td>95.000000</td>\n",
       "      <td>1994.000000</td>\n",
       "      <td>4.100000e+05</td>\n",
       "    </tr>\n",
       "    <tr>\n",
       "      <th>75%</th>\n",
       "      <td>113.000000</td>\n",
       "      <td>2003.000000</td>\n",
       "      <td>5.150000e+05</td>\n",
       "    </tr>\n",
       "    <tr>\n",
       "      <th>max</th>\n",
       "      <td>249.000000</td>\n",
       "      <td>2019.000000</td>\n",
       "      <td>1.258000e+06</td>\n",
       "    </tr>\n",
       "  </tbody>\n",
       "</table>\n",
       "</div>"
      ],
      "text/plain": [
       "       floor_area_sqm  lease_commence_date  resale_price\n",
       "count    80374.000000         80374.000000  8.037400e+04\n",
       "mean        97.617804          1994.117501  4.393165e+05\n",
       "std         24.285811            12.839267  1.533902e+05\n",
       "min         31.000000          1966.000000  1.400000e+05\n",
       "25%         82.000000          1984.000000  3.300000e+05\n",
       "50%         95.000000          1994.000000  4.100000e+05\n",
       "75%        113.000000          2003.000000  5.150000e+05\n",
       "max        249.000000          2019.000000  1.258000e+06"
      ]
     },
     "execution_count": 102,
     "metadata": {},
     "output_type": "execute_result"
    }
   ],
   "source": [
    "df.describe()"
   ]
  },
  {
   "cell_type": "code",
   "execution_count": 103,
   "id": "94ec4d1d",
   "metadata": {},
   "outputs": [
    {
     "data": {
      "text/plain": [
       "month                  0\n",
       "town                   0\n",
       "flat_type              0\n",
       "block                  0\n",
       "street_name            0\n",
       "storey_range           0\n",
       "floor_area_sqm         0\n",
       "flat_model             0\n",
       "lease_commence_date    0\n",
       "remaining_lease        0\n",
       "resale_price           0\n",
       "dtype: int64"
      ]
     },
     "execution_count": 103,
     "metadata": {},
     "output_type": "execute_result"
    }
   ],
   "source": [
    "df.isnull().sum()"
   ]
  },
  {
   "cell_type": "code",
   "execution_count": 106,
   "id": "adaf16fd",
   "metadata": {},
   "outputs": [
    {
     "data": {
      "text/plain": [
       "<AxesSubplot:xlabel='count', ylabel='town'>"
      ]
     },
     "execution_count": 106,
     "metadata": {},
     "output_type": "execute_result"
    },
    {
     "data": {
      "image/png": "[encoded data removed]",
      "text/plain": [
       "<Figure size 432x288 with 1 Axes>"
      ]
     },
     "metadata": {
      "needs_background": "light"
     },
     "output_type": "display_data"
    }
   ],
   "source": [
    "sns.countplot(y='town', data=df)"
   ]
  },
  {
   "cell_type": "code",
   "execution_count": null,
   "id": "680462ea",
   "metadata": {},
   "outputs": [],
   "source": []
  }
 ],
 "metadata": {
  "kernelspec": {
   "display_name": "Python 3",
   "language": "python",
   "name": "python3"
  },
  "language_info": {
   "codemirror_mode": {
    "name": "ipython",
    "version": 3
   },
   "file_extension": ".py",
   "mimetype": "text/x-python",
   "name": "python",
   "nbconvert_exporter": "python",
   "pygments_lexer": "ipython3",
   "version": "3.8.8"
  }
 },
 "nbformat": 4,
 "nbformat_minor": 5
}
