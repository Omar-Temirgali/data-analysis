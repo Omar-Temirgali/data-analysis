{
 "cells": [
  {
   "cell_type": "code",
   "execution_count": 1,
   "metadata": {},
   "outputs": [],
   "source": [
    "import pandas as pd\n",
    "import numpy as np"
   ]
  },
  {
   "cell_type": "markdown",
   "metadata": {},
   "source": [
    "1. (1p) Load the data from 'countries.csv' file into a Pandas DataFrame. Assign the name of dataframe as df_countries. Print the first 5 records of the dataframe"
   ]
  },
  {
   "cell_type": "code",
   "execution_count": 2,
   "metadata": {},
   "outputs": [],
   "source": [
    "filename = 'countries.csv'"
   ]
  },
  {
   "cell_type": "code",
   "execution_count": 3,
   "metadata": {},
   "outputs": [
    {
     "name": "stdout",
     "output_type": "stream",
     "text": [
      "      location continent  population  life_expectancy  \\\n",
      "0  Afghanistan      Asia    38928341            64.83   \n",
      "1      Albania    Europe     2877800            78.57   \n",
      "2      Algeria    Africa    43851043            76.88   \n",
      "3      Andorra    Europe       77265            83.73   \n",
      "4       Angola    Africa    32866268            61.15   \n",
      "\n",
      "   hospital_beds_per_thousand  gdp_per_capita  \n",
      "0                        0.50        1803.987  \n",
      "1                        2.89       11803.431  \n",
      "2                        1.90       13913.839  \n",
      "3                         NaN             NaN  \n",
      "4                         NaN        5819.495  \n"
     ]
    }
   ],
   "source": [
    "df_countries = pd.read_csv(filename)\n",
    "print(df_countries.head())"
   ]
  },
  {
   "cell_type": "markdown",
   "metadata": {},
   "source": [
    "2. (1p) How many countries does the dataframe 'df_countries' contain? Use the function to print the number of rows and columns in the 'df_countries'"
   ]
  },
  {
   "cell_type": "code",
   "execution_count": 4,
   "metadata": {},
   "outputs": [
    {
     "name": "stdout",
     "output_type": "stream",
     "text": [
      "(210, 6)\n"
     ]
    }
   ],
   "source": [
    "print(df_countries.shape)"
   ]
  },
  {
   "cell_type": "markdown",
   "metadata": {},
   "source": [
    "3. (1p) Count the number of missing values in each columns of 'df_countries'"
   ]
  },
  {
   "cell_type": "code",
   "execution_count": 5,
   "metadata": {},
   "outputs": [
    {
     "data": {
      "text/plain": [
       "location                       0\n",
       "continent                      0\n",
       "population                     0\n",
       "life_expectancy                3\n",
       "hospital_beds_per_thousand    46\n",
       "gdp_per_capita                27\n",
       "dtype: int64"
      ]
     },
     "execution_count": 5,
     "metadata": {},
     "output_type": "execute_result"
    }
   ],
   "source": [
    "df_countries.isna().sum()"
   ]
  },
  {
   "cell_type": "markdown",
   "metadata": {},
   "source": [
    "4. (1p) Replace missing values in column 'hospital_beds_per_thousand' with value 0. Print the first 5 records of the dataframe"
   ]
  },
  {
   "cell_type": "code",
   "execution_count": 6,
   "metadata": {},
   "outputs": [
    {
     "name": "stdout",
     "output_type": "stream",
     "text": [
      "      location continent  population  life_expectancy  \\\n",
      "0  Afghanistan      Asia    38928341            64.83   \n",
      "1      Albania    Europe     2877800            78.57   \n",
      "2      Algeria    Africa    43851043            76.88   \n",
      "3      Andorra    Europe       77265            83.73   \n",
      "4       Angola    Africa    32866268            61.15   \n",
      "\n",
      "   hospital_beds_per_thousand  gdp_per_capita  \n",
      "0                        0.50        1803.987  \n",
      "1                        2.89       11803.431  \n",
      "2                        1.90       13913.839  \n",
      "3                        0.00             NaN  \n",
      "4                        0.00        5819.495  \n"
     ]
    }
   ],
   "source": [
    "df_countries['hospital_beds_per_thousand'] = df_countries['hospital_beds_per_thousand'].fillna(0)\n",
    "print(df_countries.head())"
   ]
  },
  {
   "cell_type": "markdown",
   "metadata": {},
   "source": [
    "5. (1p) Calculate the total population of all the countries that are listed in the dataset. Your answer should include the function that will calculate the sum. "
   ]
  },
  {
   "cell_type": "code",
   "execution_count": 7,
   "metadata": {},
   "outputs": [
    {
     "name": "stdout",
     "output_type": "stream",
     "text": [
      "7757980095\n"
     ]
    }
   ],
   "source": [
    "total_population = df_countries['population'].sum()\n",
    "print(total_population)"
   ]
  },
  {
   "cell_type": "markdown",
   "metadata": {},
   "source": [
    "6. (2p) Sort the dataframe by 2 variables: 'continent' in ascending order, 'population' in descending order. The sorting should be written in one line of code"
   ]
  },
  {
   "cell_type": "code",
   "execution_count": 8,
   "metadata": {},
   "outputs": [
    {
     "data": {
      "text/html": [
       "<div>\n",
       "<style scoped>\n",
       "    .dataframe tbody tr th:only-of-type {\n",
       "        vertical-align: middle;\n",
       "    }\n",
       "\n",
       "    .dataframe tbody tr th {\n",
       "        vertical-align: top;\n",
       "    }\n",
       "\n",
       "    .dataframe thead th {\n",
       "        text-align: right;\n",
       "    }\n",
       "</style>\n",
       "<table border=\"1\" class=\"dataframe\">\n",
       "  <thead>\n",
       "    <tr style=\"text-align: right;\">\n",
       "      <th></th>\n",
       "      <th>location</th>\n",
       "      <th>continent</th>\n",
       "      <th>population</th>\n",
       "      <th>life_expectancy</th>\n",
       "      <th>hospital_beds_per_thousand</th>\n",
       "      <th>gdp_per_capita</th>\n",
       "    </tr>\n",
       "  </thead>\n",
       "  <tbody>\n",
       "    <tr>\n",
       "      <th>141</th>\n",
       "      <td>Nigeria</td>\n",
       "      <td>Africa</td>\n",
       "      <td>206139587</td>\n",
       "      <td>54.69</td>\n",
       "      <td>0.0</td>\n",
       "      <td>5338.454</td>\n",
       "    </tr>\n",
       "    <tr>\n",
       "      <th>63</th>\n",
       "      <td>Ethiopia</td>\n",
       "      <td>Africa</td>\n",
       "      <td>114963583</td>\n",
       "      <td>66.60</td>\n",
       "      <td>0.3</td>\n",
       "      <td>1729.927</td>\n",
       "    </tr>\n",
       "    <tr>\n",
       "      <th>58</th>\n",
       "      <td>Egypt</td>\n",
       "      <td>Africa</td>\n",
       "      <td>102334403</td>\n",
       "      <td>71.99</td>\n",
       "      <td>1.6</td>\n",
       "      <td>10550.206</td>\n",
       "    </tr>\n",
       "    <tr>\n",
       "      <th>52</th>\n",
       "      <td>Democratic Republic of Congo</td>\n",
       "      <td>Africa</td>\n",
       "      <td>89561404</td>\n",
       "      <td>60.68</td>\n",
       "      <td>0.0</td>\n",
       "      <td>808.133</td>\n",
       "    </tr>\n",
       "    <tr>\n",
       "      <th>187</th>\n",
       "      <td>Tanzania</td>\n",
       "      <td>Africa</td>\n",
       "      <td>59734213</td>\n",
       "      <td>65.46</td>\n",
       "      <td>0.7</td>\n",
       "      <td>2683.304</td>\n",
       "    </tr>\n",
       "    <tr>\n",
       "      <th>...</th>\n",
       "      <td>...</td>\n",
       "      <td>...</td>\n",
       "      <td>...</td>\n",
       "      <td>...</td>\n",
       "      <td>...</td>\n",
       "      <td>...</td>\n",
       "    </tr>\n",
       "    <tr>\n",
       "      <th>149</th>\n",
       "      <td>Paraguay</td>\n",
       "      <td>South America</td>\n",
       "      <td>7132530</td>\n",
       "      <td>74.25</td>\n",
       "      <td>1.3</td>\n",
       "      <td>8827.010</td>\n",
       "    </tr>\n",
       "    <tr>\n",
       "      <th>201</th>\n",
       "      <td>Uruguay</td>\n",
       "      <td>South America</td>\n",
       "      <td>3473727</td>\n",
       "      <td>77.91</td>\n",
       "      <td>2.8</td>\n",
       "      <td>20551.409</td>\n",
       "    </tr>\n",
       "    <tr>\n",
       "      <th>84</th>\n",
       "      <td>Guyana</td>\n",
       "      <td>South America</td>\n",
       "      <td>786559</td>\n",
       "      <td>69.91</td>\n",
       "      <td>1.6</td>\n",
       "      <td>7435.047</td>\n",
       "    </tr>\n",
       "    <tr>\n",
       "      <th>180</th>\n",
       "      <td>Suriname</td>\n",
       "      <td>South America</td>\n",
       "      <td>586634</td>\n",
       "      <td>71.68</td>\n",
       "      <td>3.1</td>\n",
       "      <td>13767.119</td>\n",
       "    </tr>\n",
       "    <tr>\n",
       "      <th>65</th>\n",
       "      <td>Falkland Islands</td>\n",
       "      <td>South America</td>\n",
       "      <td>3483</td>\n",
       "      <td>81.44</td>\n",
       "      <td>0.0</td>\n",
       "      <td>NaN</td>\n",
       "    </tr>\n",
       "  </tbody>\n",
       "</table>\n",
       "<p>210 rows × 6 columns</p>\n",
       "</div>"
      ],
      "text/plain": [
       "                         location      continent  population  life_expectancy  \\\n",
       "141                       Nigeria         Africa   206139587            54.69   \n",
       "63                       Ethiopia         Africa   114963583            66.60   \n",
       "58                          Egypt         Africa   102334403            71.99   \n",
       "52   Democratic Republic of Congo         Africa    89561404            60.68   \n",
       "187                      Tanzania         Africa    59734213            65.46   \n",
       "..                            ...            ...         ...              ...   \n",
       "149                      Paraguay  South America     7132530            74.25   \n",
       "201                       Uruguay  South America     3473727            77.91   \n",
       "84                         Guyana  South America      786559            69.91   \n",
       "180                      Suriname  South America      586634            71.68   \n",
       "65               Falkland Islands  South America        3483            81.44   \n",
       "\n",
       "     hospital_beds_per_thousand  gdp_per_capita  \n",
       "141                         0.0        5338.454  \n",
       "63                          0.3        1729.927  \n",
       "58                          1.6       10550.206  \n",
       "52                          0.0         808.133  \n",
       "187                         0.7        2683.304  \n",
       "..                          ...             ...  \n",
       "149                         1.3        8827.010  \n",
       "201                         2.8       20551.409  \n",
       "84                          1.6        7435.047  \n",
       "180                         3.1       13767.119  \n",
       "65                          0.0             NaN  \n",
       "\n",
       "[210 rows x 6 columns]"
      ]
     },
     "execution_count": 8,
     "metadata": {},
     "output_type": "execute_result"
    }
   ],
   "source": [
    "df_countries.sort_values(by=['continent', 'population'], ascending=[True, False])"
   ]
  },
  {
   "cell_type": "markdown",
   "metadata": {},
   "source": [
    "7. (2p) How many countries have a high life expectancy? Subset rows where 'life_expectancy' is greater than 80.0, and then calculate the number of countries. (Hint: the number of countries can be calculated using the function that prints the number of rows and columns in dataframe)"
   ]
  },
  {
   "cell_type": "code",
   "execution_count": 9,
   "metadata": {},
   "outputs": [
    {
     "data": {
      "text/plain": [
       "(47, 6)"
      ]
     },
     "execution_count": 9,
     "metadata": {},
     "output_type": "execute_result"
    }
   ],
   "source": [
    "df_countries[df_countries['life_expectancy'] > 80.0].shape"
   ]
  },
  {
   "cell_type": "markdown",
   "metadata": {},
   "source": [
    "8. (2p) Create and add a new column in countries_df to show the overall GDP per country. The overall GDP os calculated by multiplying population to per capita GDP. Print the first 5 records of the dataframe to check if the new column was added"
   ]
  },
  {
   "cell_type": "code",
   "execution_count": 10,
   "metadata": {},
   "outputs": [
    {
     "name": "stdout",
     "output_type": "stream",
     "text": [
      "      location continent  population  life_expectancy  \\\n",
      "0  Afghanistan      Asia    38928341            64.83   \n",
      "1      Albania    Europe     2877800            78.57   \n",
      "2      Algeria    Africa    43851043            76.88   \n",
      "3      Andorra    Europe       77265            83.73   \n",
      "4       Angola    Africa    32866268            61.15   \n",
      "\n",
      "   hospital_beds_per_thousand  gdp_per_capita  gdp_per_country  \n",
      "0                        0.50        1803.987     7.022622e+10  \n",
      "1                        2.89       11803.431     3.396791e+10  \n",
      "2                        1.90       13913.839     6.101364e+11  \n",
      "3                        0.00             NaN              NaN  \n",
      "4                        0.00        5819.495     1.912651e+11  \n"
     ]
    }
   ],
   "source": [
    "df_countries['gdp_per_country'] = df_countries['population'] * df_countries['gdp_per_capita']\n",
    "print(df_countries.head())"
   ]
  },
  {
   "cell_type": "markdown",
   "metadata": {},
   "source": [
    "9. (1p) Subset rows that will show countries only in 'Europe' and 'Asia'"
   ]
  },
  {
   "cell_type": "code",
   "execution_count": 11,
   "metadata": {},
   "outputs": [
    {
     "data": {
      "text/html": [
       "<div>\n",
       "<style scoped>\n",
       "    .dataframe tbody tr th:only-of-type {\n",
       "        vertical-align: middle;\n",
       "    }\n",
       "\n",
       "    .dataframe tbody tr th {\n",
       "        vertical-align: top;\n",
       "    }\n",
       "\n",
       "    .dataframe thead th {\n",
       "        text-align: right;\n",
       "    }\n",
       "</style>\n",
       "<table border=\"1\" class=\"dataframe\">\n",
       "  <thead>\n",
       "    <tr style=\"text-align: right;\">\n",
       "      <th></th>\n",
       "      <th>location</th>\n",
       "      <th>continent</th>\n",
       "      <th>population</th>\n",
       "      <th>life_expectancy</th>\n",
       "      <th>hospital_beds_per_thousand</th>\n",
       "      <th>gdp_per_capita</th>\n",
       "      <th>gdp_per_country</th>\n",
       "    </tr>\n",
       "  </thead>\n",
       "  <tbody>\n",
       "    <tr>\n",
       "      <th>0</th>\n",
       "      <td>Afghanistan</td>\n",
       "      <td>Asia</td>\n",
       "      <td>38928341</td>\n",
       "      <td>64.83</td>\n",
       "      <td>0.50</td>\n",
       "      <td>1803.987</td>\n",
       "      <td>7.022622e+10</td>\n",
       "    </tr>\n",
       "    <tr>\n",
       "      <th>1</th>\n",
       "      <td>Albania</td>\n",
       "      <td>Europe</td>\n",
       "      <td>2877800</td>\n",
       "      <td>78.57</td>\n",
       "      <td>2.89</td>\n",
       "      <td>11803.431</td>\n",
       "      <td>3.396791e+10</td>\n",
       "    </tr>\n",
       "    <tr>\n",
       "      <th>3</th>\n",
       "      <td>Andorra</td>\n",
       "      <td>Europe</td>\n",
       "      <td>77265</td>\n",
       "      <td>83.73</td>\n",
       "      <td>0.00</td>\n",
       "      <td>NaN</td>\n",
       "      <td>NaN</td>\n",
       "    </tr>\n",
       "    <tr>\n",
       "      <th>8</th>\n",
       "      <td>Armenia</td>\n",
       "      <td>Asia</td>\n",
       "      <td>2963234</td>\n",
       "      <td>75.09</td>\n",
       "      <td>4.20</td>\n",
       "      <td>8787.580</td>\n",
       "      <td>2.603966e+10</td>\n",
       "    </tr>\n",
       "    <tr>\n",
       "      <th>11</th>\n",
       "      <td>Austria</td>\n",
       "      <td>Europe</td>\n",
       "      <td>9006400</td>\n",
       "      <td>81.54</td>\n",
       "      <td>7.37</td>\n",
       "      <td>45436.686</td>\n",
       "      <td>4.092210e+11</td>\n",
       "    </tr>\n",
       "    <tr>\n",
       "      <th>...</th>\n",
       "      <td>...</td>\n",
       "      <td>...</td>\n",
       "      <td>...</td>\n",
       "      <td>...</td>\n",
       "      <td>...</td>\n",
       "      <td>...</td>\n",
       "      <td>...</td>\n",
       "    </tr>\n",
       "    <tr>\n",
       "      <th>198</th>\n",
       "      <td>United Kingdom</td>\n",
       "      <td>Europe</td>\n",
       "      <td>67886004</td>\n",
       "      <td>81.32</td>\n",
       "      <td>2.54</td>\n",
       "      <td>39753.244</td>\n",
       "      <td>2.698689e+12</td>\n",
       "    </tr>\n",
       "    <tr>\n",
       "      <th>202</th>\n",
       "      <td>Uzbekistan</td>\n",
       "      <td>Asia</td>\n",
       "      <td>33469199</td>\n",
       "      <td>71.72</td>\n",
       "      <td>4.00</td>\n",
       "      <td>6253.104</td>\n",
       "      <td>2.092864e+11</td>\n",
       "    </tr>\n",
       "    <tr>\n",
       "      <th>203</th>\n",
       "      <td>Vatican</td>\n",
       "      <td>Europe</td>\n",
       "      <td>809</td>\n",
       "      <td>75.12</td>\n",
       "      <td>0.00</td>\n",
       "      <td>NaN</td>\n",
       "      <td>NaN</td>\n",
       "    </tr>\n",
       "    <tr>\n",
       "      <th>205</th>\n",
       "      <td>Vietnam</td>\n",
       "      <td>Asia</td>\n",
       "      <td>97338583</td>\n",
       "      <td>75.40</td>\n",
       "      <td>2.60</td>\n",
       "      <td>6171.884</td>\n",
       "      <td>6.007624e+11</td>\n",
       "    </tr>\n",
       "    <tr>\n",
       "      <th>207</th>\n",
       "      <td>Yemen</td>\n",
       "      <td>Asia</td>\n",
       "      <td>29825968</td>\n",
       "      <td>66.12</td>\n",
       "      <td>0.70</td>\n",
       "      <td>1479.147</td>\n",
       "      <td>4.411699e+10</td>\n",
       "    </tr>\n",
       "  </tbody>\n",
       "</table>\n",
       "<p>98 rows × 7 columns</p>\n",
       "</div>"
      ],
      "text/plain": [
       "           location continent  population  life_expectancy  \\\n",
       "0       Afghanistan      Asia    38928341            64.83   \n",
       "1           Albania    Europe     2877800            78.57   \n",
       "3           Andorra    Europe       77265            83.73   \n",
       "8           Armenia      Asia     2963234            75.09   \n",
       "11          Austria    Europe     9006400            81.54   \n",
       "..              ...       ...         ...              ...   \n",
       "198  United Kingdom    Europe    67886004            81.32   \n",
       "202      Uzbekistan      Asia    33469199            71.72   \n",
       "203         Vatican    Europe         809            75.12   \n",
       "205         Vietnam      Asia    97338583            75.40   \n",
       "207           Yemen      Asia    29825968            66.12   \n",
       "\n",
       "     hospital_beds_per_thousand  gdp_per_capita  gdp_per_country  \n",
       "0                          0.50        1803.987     7.022622e+10  \n",
       "1                          2.89       11803.431     3.396791e+10  \n",
       "3                          0.00             NaN              NaN  \n",
       "8                          4.20        8787.580     2.603966e+10  \n",
       "11                         7.37       45436.686     4.092210e+11  \n",
       "..                          ...             ...              ...  \n",
       "198                        2.54       39753.244     2.698689e+12  \n",
       "202                        4.00        6253.104     2.092864e+11  \n",
       "203                        0.00             NaN              NaN  \n",
       "205                        2.60        6171.884     6.007624e+11  \n",
       "207                        0.70        1479.147     4.411699e+10  \n",
       "\n",
       "[98 rows x 7 columns]"
      ]
     },
     "execution_count": 11,
     "metadata": {},
     "output_type": "execute_result"
    }
   ],
   "source": [
    "df_countries[df_countries['continent'].isin(['Europe', 'Asia'])]"
   ]
  },
  {
   "cell_type": "markdown",
   "metadata": {},
   "source": [
    "10. (1p) Change the index of the dataframe from numerical to values in column 'location'. Print the first 5 records of the dataframe"
   ]
  },
  {
   "cell_type": "code",
   "execution_count": 12,
   "metadata": {},
   "outputs": [
    {
     "name": "stdout",
     "output_type": "stream",
     "text": [
      "            continent  population  life_expectancy  \\\n",
      "location                                             \n",
      "Afghanistan      Asia    38928341            64.83   \n",
      "Albania        Europe     2877800            78.57   \n",
      "Algeria        Africa    43851043            76.88   \n",
      "Andorra        Europe       77265            83.73   \n",
      "Angola         Africa    32866268            61.15   \n",
      "\n",
      "             hospital_beds_per_thousand  gdp_per_capita  gdp_per_country  \n",
      "location                                                                  \n",
      "Afghanistan                        0.50        1803.987     7.022622e+10  \n",
      "Albania                            2.89       11803.431     3.396791e+10  \n",
      "Algeria                            1.90       13913.839     6.101364e+11  \n",
      "Andorra                            0.00             NaN              NaN  \n",
      "Angola                             0.00        5819.495     1.912651e+11  \n"
     ]
    }
   ],
   "source": [
    "df_countries = df_countries.set_index('location')\n",
    "print(df_countries.head())"
   ]
  },
  {
   "cell_type": "markdown",
   "metadata": {},
   "source": [
    "11. (1p) Slice the dataframe to select countries from 'Canada' to 'Costa Rica' using .loc() "
   ]
  },
  {
   "cell_type": "code",
   "execution_count": 13,
   "metadata": {},
   "outputs": [
    {
     "data": {
      "text/html": [
       "<div>\n",
       "<style scoped>\n",
       "    .dataframe tbody tr th:only-of-type {\n",
       "        vertical-align: middle;\n",
       "    }\n",
       "\n",
       "    .dataframe tbody tr th {\n",
       "        vertical-align: top;\n",
       "    }\n",
       "\n",
       "    .dataframe thead th {\n",
       "        text-align: right;\n",
       "    }\n",
       "</style>\n",
       "<table border=\"1\" class=\"dataframe\">\n",
       "  <thead>\n",
       "    <tr style=\"text-align: right;\">\n",
       "      <th></th>\n",
       "      <th>continent</th>\n",
       "      <th>population</th>\n",
       "      <th>life_expectancy</th>\n",
       "      <th>hospital_beds_per_thousand</th>\n",
       "      <th>gdp_per_capita</th>\n",
       "      <th>gdp_per_country</th>\n",
       "    </tr>\n",
       "    <tr>\n",
       "      <th>location</th>\n",
       "      <th></th>\n",
       "      <th></th>\n",
       "      <th></th>\n",
       "      <th></th>\n",
       "      <th></th>\n",
       "      <th></th>\n",
       "    </tr>\n",
       "  </thead>\n",
       "  <tbody>\n",
       "    <tr>\n",
       "      <th>Canada</th>\n",
       "      <td>North America</td>\n",
       "      <td>37742157</td>\n",
       "      <td>82.43</td>\n",
       "      <td>2.50</td>\n",
       "      <td>44017.591</td>\n",
       "      <td>1.661319e+12</td>\n",
       "    </tr>\n",
       "    <tr>\n",
       "      <th>Cape Verde</th>\n",
       "      <td>Africa</td>\n",
       "      <td>555988</td>\n",
       "      <td>72.98</td>\n",
       "      <td>2.10</td>\n",
       "      <td>6222.554</td>\n",
       "      <td>3.459665e+09</td>\n",
       "    </tr>\n",
       "    <tr>\n",
       "      <th>Cayman Islands</th>\n",
       "      <td>North America</td>\n",
       "      <td>65720</td>\n",
       "      <td>83.92</td>\n",
       "      <td>0.00</td>\n",
       "      <td>49903.029</td>\n",
       "      <td>3.279627e+09</td>\n",
       "    </tr>\n",
       "    <tr>\n",
       "      <th>Central African Republic</th>\n",
       "      <td>Africa</td>\n",
       "      <td>4829764</td>\n",
       "      <td>53.28</td>\n",
       "      <td>1.00</td>\n",
       "      <td>661.240</td>\n",
       "      <td>3.193633e+09</td>\n",
       "    </tr>\n",
       "    <tr>\n",
       "      <th>Chad</th>\n",
       "      <td>Africa</td>\n",
       "      <td>16425859</td>\n",
       "      <td>54.24</td>\n",
       "      <td>0.00</td>\n",
       "      <td>1768.153</td>\n",
       "      <td>2.904343e+10</td>\n",
       "    </tr>\n",
       "    <tr>\n",
       "      <th>Chile</th>\n",
       "      <td>South America</td>\n",
       "      <td>19116209</td>\n",
       "      <td>80.18</td>\n",
       "      <td>2.11</td>\n",
       "      <td>22767.037</td>\n",
       "      <td>4.352194e+11</td>\n",
       "    </tr>\n",
       "    <tr>\n",
       "      <th>China</th>\n",
       "      <td>Asia</td>\n",
       "      <td>1439323774</td>\n",
       "      <td>76.91</td>\n",
       "      <td>4.34</td>\n",
       "      <td>15308.712</td>\n",
       "      <td>2.203419e+13</td>\n",
       "    </tr>\n",
       "    <tr>\n",
       "      <th>Colombia</th>\n",
       "      <td>South America</td>\n",
       "      <td>50882884</td>\n",
       "      <td>77.29</td>\n",
       "      <td>1.71</td>\n",
       "      <td>13254.949</td>\n",
       "      <td>6.744500e+11</td>\n",
       "    </tr>\n",
       "    <tr>\n",
       "      <th>Comoros</th>\n",
       "      <td>Africa</td>\n",
       "      <td>869595</td>\n",
       "      <td>64.32</td>\n",
       "      <td>2.20</td>\n",
       "      <td>1413.890</td>\n",
       "      <td>1.229512e+09</td>\n",
       "    </tr>\n",
       "    <tr>\n",
       "      <th>Congo</th>\n",
       "      <td>Africa</td>\n",
       "      <td>5518092</td>\n",
       "      <td>64.57</td>\n",
       "      <td>0.00</td>\n",
       "      <td>4881.406</td>\n",
       "      <td>2.693605e+10</td>\n",
       "    </tr>\n",
       "    <tr>\n",
       "      <th>Costa Rica</th>\n",
       "      <td>North America</td>\n",
       "      <td>5094114</td>\n",
       "      <td>80.28</td>\n",
       "      <td>1.13</td>\n",
       "      <td>15524.995</td>\n",
       "      <td>7.908609e+10</td>\n",
       "    </tr>\n",
       "  </tbody>\n",
       "</table>\n",
       "</div>"
      ],
      "text/plain": [
       "                              continent  population  life_expectancy  \\\n",
       "location                                                               \n",
       "Canada                    North America    37742157            82.43   \n",
       "Cape Verde                       Africa      555988            72.98   \n",
       "Cayman Islands            North America       65720            83.92   \n",
       "Central African Republic         Africa     4829764            53.28   \n",
       "Chad                             Africa    16425859            54.24   \n",
       "Chile                     South America    19116209            80.18   \n",
       "China                              Asia  1439323774            76.91   \n",
       "Colombia                  South America    50882884            77.29   \n",
       "Comoros                          Africa      869595            64.32   \n",
       "Congo                            Africa     5518092            64.57   \n",
       "Costa Rica                North America     5094114            80.28   \n",
       "\n",
       "                          hospital_beds_per_thousand  gdp_per_capita  \\\n",
       "location                                                               \n",
       "Canada                                          2.50       44017.591   \n",
       "Cape Verde                                      2.10        6222.554   \n",
       "Cayman Islands                                  0.00       49903.029   \n",
       "Central African Republic                        1.00         661.240   \n",
       "Chad                                            0.00        1768.153   \n",
       "Chile                                           2.11       22767.037   \n",
       "China                                           4.34       15308.712   \n",
       "Colombia                                        1.71       13254.949   \n",
       "Comoros                                         2.20        1413.890   \n",
       "Congo                                           0.00        4881.406   \n",
       "Costa Rica                                      1.13       15524.995   \n",
       "\n",
       "                          gdp_per_country  \n",
       "location                                   \n",
       "Canada                       1.661319e+12  \n",
       "Cape Verde                   3.459665e+09  \n",
       "Cayman Islands               3.279627e+09  \n",
       "Central African Republic     3.193633e+09  \n",
       "Chad                         2.904343e+10  \n",
       "Chile                        4.352194e+11  \n",
       "China                        2.203419e+13  \n",
       "Colombia                     6.744500e+11  \n",
       "Comoros                      1.229512e+09  \n",
       "Congo                        2.693605e+10  \n",
       "Costa Rica                   7.908609e+10  "
      ]
     },
     "execution_count": 13,
     "metadata": {},
     "output_type": "execute_result"
    }
   ],
   "source": [
    "df_countries.loc['Canada':'Costa Rica']"
   ]
  },
  {
   "cell_type": "markdown",
   "metadata": {},
   "source": [
    "12. (2p) Slice the dataframe to select countries from 'Kazakhstan' to 'Malaysia', and 2 columns: 'population' and 'gdp_per_capita' using .loc() function."
   ]
  },
  {
   "cell_type": "code",
   "execution_count": 14,
   "metadata": {},
   "outputs": [
    {
     "data": {
      "text/html": [
       "<div>\n",
       "<style scoped>\n",
       "    .dataframe tbody tr th:only-of-type {\n",
       "        vertical-align: middle;\n",
       "    }\n",
       "\n",
       "    .dataframe tbody tr th {\n",
       "        vertical-align: top;\n",
       "    }\n",
       "\n",
       "    .dataframe thead th {\n",
       "        text-align: right;\n",
       "    }\n",
       "</style>\n",
       "<table border=\"1\" class=\"dataframe\">\n",
       "  <thead>\n",
       "    <tr style=\"text-align: right;\">\n",
       "      <th></th>\n",
       "      <th>population</th>\n",
       "      <th>gdp_per_capita</th>\n",
       "    </tr>\n",
       "    <tr>\n",
       "      <th>location</th>\n",
       "      <th></th>\n",
       "      <th></th>\n",
       "    </tr>\n",
       "  </thead>\n",
       "  <tbody>\n",
       "    <tr>\n",
       "      <th>Kazakhstan</th>\n",
       "      <td>18776707</td>\n",
       "      <td>24055.588</td>\n",
       "    </tr>\n",
       "    <tr>\n",
       "      <th>Kenya</th>\n",
       "      <td>53771300</td>\n",
       "      <td>2993.028</td>\n",
       "    </tr>\n",
       "    <tr>\n",
       "      <th>Kosovo</th>\n",
       "      <td>1932774</td>\n",
       "      <td>9795.834</td>\n",
       "    </tr>\n",
       "    <tr>\n",
       "      <th>Kuwait</th>\n",
       "      <td>4270563</td>\n",
       "      <td>65530.537</td>\n",
       "    </tr>\n",
       "    <tr>\n",
       "      <th>Kyrgyzstan</th>\n",
       "      <td>6524191</td>\n",
       "      <td>3393.474</td>\n",
       "    </tr>\n",
       "    <tr>\n",
       "      <th>Laos</th>\n",
       "      <td>7275556</td>\n",
       "      <td>6397.360</td>\n",
       "    </tr>\n",
       "    <tr>\n",
       "      <th>Latvia</th>\n",
       "      <td>1886202</td>\n",
       "      <td>25063.846</td>\n",
       "    </tr>\n",
       "    <tr>\n",
       "      <th>Lebanon</th>\n",
       "      <td>6825442</td>\n",
       "      <td>13367.565</td>\n",
       "    </tr>\n",
       "    <tr>\n",
       "      <th>Lesotho</th>\n",
       "      <td>2142252</td>\n",
       "      <td>2851.153</td>\n",
       "    </tr>\n",
       "    <tr>\n",
       "      <th>Liberia</th>\n",
       "      <td>5057677</td>\n",
       "      <td>752.788</td>\n",
       "    </tr>\n",
       "    <tr>\n",
       "      <th>Libya</th>\n",
       "      <td>6871287</td>\n",
       "      <td>17881.509</td>\n",
       "    </tr>\n",
       "    <tr>\n",
       "      <th>Liechtenstein</th>\n",
       "      <td>38137</td>\n",
       "      <td>NaN</td>\n",
       "    </tr>\n",
       "    <tr>\n",
       "      <th>Lithuania</th>\n",
       "      <td>2722291</td>\n",
       "      <td>29524.265</td>\n",
       "    </tr>\n",
       "    <tr>\n",
       "      <th>Luxembourg</th>\n",
       "      <td>625976</td>\n",
       "      <td>94277.965</td>\n",
       "    </tr>\n",
       "    <tr>\n",
       "      <th>Macedonia</th>\n",
       "      <td>2083380</td>\n",
       "      <td>13111.214</td>\n",
       "    </tr>\n",
       "    <tr>\n",
       "      <th>Madagascar</th>\n",
       "      <td>27691019</td>\n",
       "      <td>1416.440</td>\n",
       "    </tr>\n",
       "    <tr>\n",
       "      <th>Malawi</th>\n",
       "      <td>19129955</td>\n",
       "      <td>1095.042</td>\n",
       "    </tr>\n",
       "    <tr>\n",
       "      <th>Malaysia</th>\n",
       "      <td>32365998</td>\n",
       "      <td>26808.164</td>\n",
       "    </tr>\n",
       "  </tbody>\n",
       "</table>\n",
       "</div>"
      ],
      "text/plain": [
       "               population  gdp_per_capita\n",
       "location                                 \n",
       "Kazakhstan       18776707       24055.588\n",
       "Kenya            53771300        2993.028\n",
       "Kosovo            1932774        9795.834\n",
       "Kuwait            4270563       65530.537\n",
       "Kyrgyzstan        6524191        3393.474\n",
       "Laos              7275556        6397.360\n",
       "Latvia            1886202       25063.846\n",
       "Lebanon           6825442       13367.565\n",
       "Lesotho           2142252        2851.153\n",
       "Liberia           5057677         752.788\n",
       "Libya             6871287       17881.509\n",
       "Liechtenstein       38137             NaN\n",
       "Lithuania         2722291       29524.265\n",
       "Luxembourg         625976       94277.965\n",
       "Macedonia         2083380       13111.214\n",
       "Madagascar       27691019        1416.440\n",
       "Malawi           19129955        1095.042\n",
       "Malaysia         32365998       26808.164"
      ]
     },
     "execution_count": 14,
     "metadata": {},
     "output_type": "execute_result"
    }
   ],
   "source": [
    "df_countries.loc['Kazakhstan':'Malaysia', ['population', 'gdp_per_capita']]"
   ]
  },
  {
   "cell_type": "markdown",
   "metadata": {},
   "source": [
    "13. (3p) What are the 10 countries with the highest life_expectancy? Create a new dataframe from 'df_countries' that will include 10 countries with the highest life_expectancy. Assign name for a new dataframe as 'highest_LifeExp_countries'"
   ]
  },
  {
   "cell_type": "code",
   "execution_count": 15,
   "metadata": {},
   "outputs": [],
   "source": [
    "highest_LifeExp_countries = df_countries.sort_values('life_expectancy', ascending=False)[0:10]"
   ]
  },
  {
   "cell_type": "markdown",
   "metadata": {},
   "source": [
    "14. (1p) Save newly created dataframe 'highest_LifeExp_countries' as a 'highest_LifeExp_countries.csv' file. "
   ]
  },
  {
   "cell_type": "code",
   "execution_count": 16,
   "metadata": {},
   "outputs": [],
   "source": [
    "highest_LifeExp_countries.to_csv('highest_LifeExp_countries.csv')"
   ]
  },
  {
   "cell_type": "markdown",
   "metadata": {},
   "source": [
    "#Overall 20 points"
   ]
  }
 ],
 "metadata": {
  "kernelspec": {
   "display_name": "Python 3",
   "language": "python",
   "name": "python3"
  },
  "language_info": {
   "codemirror_mode": {
    "name": "ipython",
    "version": 3
   },
   "file_extension": ".py",
   "mimetype": "text/x-python",
   "name": "python",
   "nbconvert_exporter": "python",
   "pygments_lexer": "ipython3",
   "version": "3.8.8"
  }
 },
 "nbformat": 4,
 "nbformat_minor": 2
}
